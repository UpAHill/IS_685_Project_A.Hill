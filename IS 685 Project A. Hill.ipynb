{
 "cells": [
  {
   "cell_type": "markdown",
   "metadata": {},
   "source": [
    "# HR Dataset Analysis "
   ]
  },
  {
   "cell_type": "markdown",
   "metadata": {},
   "source": [
    "Adrienne Hill\n",
    "\n",
    "12.4.2018\n",
    "\n",
    "IS 685 \n",
    "\n",
    "University of Nevada, Reno"
   ]
  },
  {
   "cell_type": "markdown",
   "metadata": {},
   "source": [
    "\n",
    "# Introduction to Data, Motivation and Hypothesis"
   ]
  },
  {
   "cell_type": "markdown",
   "metadata": {},
   "source": [
    "The human resources dataset used for this project is from Kaggle and has 10 attributes describing employee characteristics. There are 14,999 rows of data, and the dataset has been widely used online to to model and predict employee turnover. However, I will use the attributes of the daaset to see if they are predictors of \"Employee Satisfaction\" and \"Promotion Last 5 Years\" rather than employee turnover, aka \"Left\". While employee turnover is a critical HR metric, so is employee satisfaction because \"People who like their job and who are proud of their company are generally more engaged, even if the work environment is stressful and pressure is high\" (Vulpen, 2018). Promotion within the last five years also indicates the performance of an employee, whether high potential employees stay at the company and whether the company has made a worthwhile investment. \n",
    "\n",
    "The goal of this analysis is to understand which features in the dataset contribute the greatest to employee promotion and employee satisfaction and to compare the performance of regression and Support Vector Regression (SVR) in my anaylysis. Support Vector Regression plots errors within a plane rather than one using a line of best fit in regrassion. The result is are two boundary lines around the line of best fit which gives us a decision boundary or a margin of tolerance. I expect that the SVR model will outperform the regression model because it is more tolerant of error (Bhattacharyya, 2018)."
   ]
  },
  {
   "cell_type": "markdown",
   "metadata": {},
   "source": [
    "# Cleaning and Exploratory Data Analysis"
   ]
  },
  {
   "cell_type": "code",
   "execution_count": 4,
   "metadata": {},
   "outputs": [],
   "source": [
    "import pip\n",
    "import pandas as pd\n",
    "import matplotlib.pyplot as plt\n",
    "import seaborn as sns\n",
    "import numpy as np\n",
    "from sklearn.model_selection import train_test_split\n",
    "import os"
   ]
  },
  {
   "cell_type": "code",
   "execution_count": 5,
   "metadata": {},
   "outputs": [],
   "source": [
    "# pd.set_option('display.max_columns',15)\n",
    "\n",
    "pd.reset_option('display.max_columns')"
   ]
  },
  {
   "cell_type": "code",
   "execution_count": 6,
   "metadata": {},
   "outputs": [
    {
     "ename": "NameError",
     "evalue": "name 'data' is not defined",
     "output_type": "error",
     "traceback": [
      "\u001b[0;31m---------------------------------------------------------------------------\u001b[0m",
      "\u001b[0;31mNameError\u001b[0m                                 Traceback (most recent call last)",
      "\u001b[0;32m<ipython-input-6-119bd6fbcbd4>\u001b[0m in \u001b[0;36m<module>\u001b[0;34m()\u001b[0m\n\u001b[1;32m      1\u001b[0m \u001b[0mdf\u001b[0m \u001b[0;34m=\u001b[0m \u001b[0mpd\u001b[0m\u001b[0;34m.\u001b[0m\u001b[0mread_csv\u001b[0m\u001b[0;34m(\u001b[0m\u001b[0;34m'/Users/adriennehill/Library/Mobile Documents/com~apple~CloudDocs/Classes/IS685/IS 685 Project/HR_Data.csv'\u001b[0m\u001b[0;34m)\u001b[0m\u001b[0;34m\u001b[0m\u001b[0m\n\u001b[0;32m----> 2\u001b[0;31m \u001b[0mdata\u001b[0m\u001b[0;34m.\u001b[0m\u001b[0mshape\u001b[0m\u001b[0;34m\u001b[0m\u001b[0m\n\u001b[0m",
      "\u001b[0;31mNameError\u001b[0m: name 'data' is not defined"
     ]
    }
   ],
   "source": [
    "df = pd.read_csv('/Users/adriennehill/Library/Mobile Documents/com~apple~CloudDocs/Classes/IS685/IS 685 Project/HR_Data.csv') \n",
    "data.shape"
   ]
  },
  {
   "cell_type": "code",
   "execution_count": null,
   "metadata": {},
   "outputs": [],
   "source": [
    "df.head()"
   ]
  },
  {
   "cell_type": "code",
   "execution_count": null,
   "metadata": {},
   "outputs": [],
   "source": [
    "df.info()"
   ]
  },
  {
   "cell_type": "markdown",
   "metadata": {},
   "source": [
    "Finding Missing Data"
   ]
  },
  {
   "cell_type": "code",
   "execution_count": null,
   "metadata": {},
   "outputs": [],
   "source": [
    "def missingData (data):\n",
    "    totalempty = data.isnull().sum().sort_values (ascending = False)\n",
    "    percentempty = (data.isnull().sum()/data.isnull().count()*100).sort_values(ascending = False)\n",
    "    missing_data = pd.concat([totalempty, percentempty], axis =1, keys = ['TotalMissing', 'PercentMissing'])\n",
    "    return missing_data"
   ]
  },
  {
   "cell_type": "code",
   "execution_count": null,
   "metadata": {},
   "outputs": [],
   "source": [
    "missingData(df)"
   ]
  },
  {
   "cell_type": "markdown",
   "metadata": {},
   "source": [
    "There aren't any missing data from the HR data set--very clean! The data types are consistent and don't need to be corrected at this time. I will move on to exploratory data analysis. "
   ]
  },
  {
   "cell_type": "markdown",
   "metadata": {},
   "source": [
    "# Exploratory Data Analysis "
   ]
  },
  {
   "cell_type": "code",
   "execution_count": null,
   "metadata": {},
   "outputs": [],
   "source": [
    "df.describe()"
   ]
  },
  {
   "cell_type": "markdown",
   "metadata": {},
   "source": [
    "The mean satisfaction level is 0.61 which is lower than desired for most companies but above 0.5. The standard deviation is .25 which shows satisfaction level varies greatly in the company. "
   ]
  },
  {
   "cell_type": "markdown",
   "metadata": {},
   "source": [
    "Descriptive Data By Promotion In The Last 5 Years"
   ]
  },
  {
   "cell_type": "code",
   "execution_count": null,
   "metadata": {
    "scrolled": true
   },
   "outputs": [],
   "source": [
    "promotiondescribe = df.groupby(['promotion_last_5years']).describe()\n",
    "\n",
    "with pd.option_context('display.max_rows', 100, 'display.max_columns', 56):\n",
    "    display(promotiondescribe)\n"
   ]
  },
  {
   "cell_type": "markdown",
   "metadata": {},
   "source": [
    "By grouping 'promotion_last_5years' we can see the means of the other features. \n",
    "* The average monthy hours between employees who received a promotion or not differs by less than two hours. \n",
    "* The average number of projects is slightly greater for those who did not receive a promotion though it may not be statistically significant. \n",
    "* The average satisfaction level among this with a promotion is slightly greater than those without a promotion; Are employees more satisfied when they have been promoted or are those who are more satisfied more likely to seek a promotion? Just a thought. \n",
    "* The average time spent at the company for employees who received a promotion is 4.17 years and 3.48 years for employees who did not. This makes sense since time and experience result in seniority, however, even a promotion doesn't prevent the large attrition that occurs after 5 years as was seen in the histogram earlier. "
   ]
  },
  {
   "cell_type": "code",
   "execution_count": null,
   "metadata": {},
   "outputs": [],
   "source": [
    "num_bins = 10 \n",
    "\n",
    "df.hist(bins= num_bins, figsize = (20,15))\n",
    "plt.savefig('HR_Histogram_Plots')\n",
    "plt.show()"
   ]
  },
  {
   "cell_type": "markdown",
   "metadata": {},
   "source": [
    "Notes: From the histograms, we see that employee satisfaction level is left skewed and the mean is less than the median. Employee satisfaction does seem to skew high or over 0.5. Very few people were promoted in the last five years which I believe could depress employee satisfaction. The time spent at the company is right skewed, so the mean is greater than the median and the company has a hard time retaining emloyees for over five years. "
   ]
  },
  {
   "cell_type": "code",
   "execution_count": null,
   "metadata": {},
   "outputs": [],
   "source": [
    "corr_matrix = df.corr()\n",
    "corr = np.corrcoef(df.corr())\n",
    "mask = np.zeros_like (corr)\n",
    "mask[np.triu_indices_from(mask)] = True\n",
    "plt.figure(figsize=(16,5))\n",
    "with sns.axes_style('white'):\n",
    "    sns.heatmap(corr_matrix, mask= mask, annot = True, linewidths= .3, cmap = 'YlGnBu')\n",
    "plt.savefig('HR_Correlation_Matrix')\n",
    "\n",
    "plt.show()"
   ]
  },
  {
   "cell_type": "markdown",
   "metadata": {},
   "source": [
    "* The correlation Matrix shows that there are few strong correlations between the features. Average monthly hours and number of project have the strongest correlation at 0.42 which is still low. \n",
    "* The strongest correlation with satisfaction level is Left at -0.39 followed by last evaluation at 0.11.  \n",
    "* The strongest correlation with promotion in the last five years is time spent at company at 0.067--an obvious correlation but still a weak correlation!"
   ]
  },
  {
   "cell_type": "code",
   "execution_count": null,
   "metadata": {},
   "outputs": [],
   "source": [
    "fig,ax=plt.subplots(ncols=2,figsize=(12,5))\n",
    "NoPromotion=df[df.promotion_last_5years==0]\n",
    "Promotion=df[df.promotion_last_5years==1]\n",
    "sns.kdeplot(Promotion.satisfaction_level,shade=True,color=\"b\",ax=ax[0],legend=False)\n",
    "ax[0].set_xlabel(\"Satisfaction Level\")\n",
    "ax[0].set_ylabel(\"Density\")\n",
    "ax[0].set_title(\"Employees Promoted\")\n",
    "sns.kdeplot(NoPromotion.satisfaction_level,shade=True,color=\"y\",ax=ax[1],legend=False)\n",
    "ax[1].set_xlabel(\"Satisfaction Level\")\n",
    "ax[1].set_ylabel('Density')\n",
    "ax[1].set_title('Employees Not Promoted')\n",
    "plt.suptitle(\"Satisfaction level Vs Promotion\",fontsize=16)"
   ]
  },
  {
   "cell_type": "code",
   "execution_count": null,
   "metadata": {},
   "outputs": [],
   "source": [
    "# List the Promotion Variables\n",
    "Promo = [0, 1]\n",
    "\n",
    "# Iterate through the five airlines\n",
    "for Promoted in Promo:\n",
    "    # Subset to the airline\n",
    "    subset = df[df['promotion_last_5years'] == Promoted]\n",
    "    \n",
    "    # Draw the density plot\n",
    "    sns.distplot(subset['satisfaction_level'], hist = False, kde = True,\n",
    "                 kde_kws = {'shade': True,'linewidth': 3},\n",
    "                 label = Promoted)\n",
    "    \n",
    "# Plot formatting\n",
    "plt.legend(prop={'size': 16}, title = 'Promotion?')\n",
    "plt.title('Density Plot Promotion in Last five Years')\n",
    "plt.xlabel('Satisfaction Level')\n",
    "plt.ylabel('Density')\n",
    "plt.savefig('HR_Satisfaction_Level_Density_Plot')"
   ]
  },
  {
   "cell_type": "markdown",
   "metadata": {},
   "source": [
    "The density plot between promotion and satisfaction show that the distribution for employees who received a promotion is more concentrated from 0.6 through 0.8 satisfaction level whereas the distribution for employees who didn't receive a promotion has two peaks around 0.1 and 0.6 through 0.8 satisfaction level. The density graphs overlap quite a bit which means there will be little to differentiate employees who received a promotion and those who didn't by satisfaction level. "
   ]
  },
  {
   "cell_type": "code",
   "execution_count": null,
   "metadata": {
    "scrolled": true
   },
   "outputs": [],
   "source": [
    "fig,ax=plt.subplots(ncols=2,figsize=(12,5))\n",
    "NoPromotion=df[df.promotion_last_5years==0]\n",
    "Promotion=df[df.promotion_last_5years==1]\n",
    "sns.kdeplot(Promotion.time_spend_company,shade=True,color=\"b\",ax=ax[0],legend=False)\n",
    "ax[0].set_xlabel(\"Years at Company\")\n",
    "ax[0].set_ylabel(\"Density\")\n",
    "ax[0].set_title(\"Employees Promoted\")\n",
    "sns.kdeplot(NoPromotion.time_spend_company,shade=True,color=\"y\",ax=ax[1],legend=False)\n",
    "ax[1].set_xlabel(\"Years at Company\")\n",
    "ax[1].set_ylabel('Density')\n",
    "ax[1].set_title('Employees Not Promoted')\n",
    "plt.suptitle(\"Years at Company Vs Promotion\",fontsize=16)"
   ]
  },
  {
   "cell_type": "code",
   "execution_count": null,
   "metadata": {},
   "outputs": [],
   "source": [
    "# List the Promotion Variables\n",
    "Promo = [0, 1]\n",
    "\n",
    "# Iterate through the five airlines\n",
    "for Promoted in Promo:\n",
    "    # Subset to the airline\n",
    "    subset = df[df['promotion_last_5years'] == Promoted]\n",
    "    \n",
    "    # Draw the density plot\n",
    "    sns.distplot(subset['time_spend_company'], hist = False, kde = True,\n",
    "                 kde_kws = {'shade': True,'linewidth': 3},\n",
    "                 label = Promoted)\n",
    "    \n",
    "# Plot formatting\n",
    "plt.legend(prop={'size': 16}, title = 'Promotion?')\n",
    "plt.title('Density Plot Promotion in Last five Years')\n",
    "plt.xlabel('Years at Company')\n",
    "plt.ylabel('Density')\n",
    "plt.savefig('HR_Year_At_Company_Density_Plot')"
   ]
  },
  {
   "cell_type": "markdown",
   "metadata": {},
   "source": [
    "The density plots between promotion and years at company show that the distribution for employees who received a promotion is more concentrated from 2 to four years at the company whereas the distribution for employees who didn't receive a promotion has peaks strong peaks at years 2, 3 and 4 years and then tapers off. The density graphs overlap less than satisfaction which means there is more to differentiate employees who received a promotion and those who didn't by years at the company, but this is not surprising nor very insightful. "
   ]
  },
  {
   "cell_type": "markdown",
   "metadata": {},
   "source": [
    "# ECDFs  "
   ]
  },
  {
   "cell_type": "markdown",
   "metadata": {},
   "source": [
    "ECDF for Satisfaction Level"
   ]
  },
  {
   "cell_type": "code",
   "execution_count": 92,
   "metadata": {},
   "outputs": [
    {
     "name": "stdout",
     "output_type": "stream",
     "text": [
      "Percenitle Satisfaction Level: [0.1  0.44 0.64 0.82 0.98]\n"
     ]
    }
   ],
   "source": [
    "# Percentile Calculation\n",
    "percentiles = np.array([2.5, 25, 50, 75, 97.5])\n",
    "\n",
    "ptiles_amount = np.percentile(df['satisfaction_level'], percentiles)\n",
    "print('Percenitle Satisfaction Level: {}'.format(ptiles_amount))"
   ]
  },
  {
   "cell_type": "code",
   "execution_count": 93,
   "metadata": {},
   "outputs": [],
   "source": [
    "# ECDF for satisfaction \n",
    "\n",
    "def ecdf(df):\n",
    "    n = len(df)\n",
    "    x = np.sort(df)\n",
    "    y = np.arange (1, n+1) / n\n",
    "    \n",
    "    return x, y "
   ]
  },
  {
   "cell_type": "code",
   "execution_count": 94,
   "metadata": {},
   "outputs": [
    {
     "data": {
      "image/png": "[encoded data removed]",
      "text/plain": [
       "<Figure size 432x288 with 1 Axes>"
      ]
     },
     "metadata": {},
     "output_type": "display_data"
    },
    {
     "data": {
      "text/plain": [
       "<Figure size 432x288 with 0 Axes>"
      ]
     },
     "metadata": {},
     "output_type": "display_data"
    }
   ],
   "source": [
    "# Compute ECDF for Satisfaction Level\n",
    "x, y = ecdf(df['satisfaction_level'])\n",
    "\n",
    "3# Generate Plot\n",
    "_ = plt.plot(x, y, marker = '.', linestyle = 'none')\n",
    "\n",
    "plt.margins(0.02)\n",
    "\n",
    "_= plt.plot(ptiles_amount, percentiles/100, marker = 'D', color = 'yellow', linestyle = 'none')\n",
    "\n",
    "_= plt.xlabel('Satisfaction Level')\n",
    "_= plt.ylabel('ECDF')\n",
    "\n",
    "plt.show()\n",
    "plt.savefig('HR_Satisfaction_ECDF')"
   ]
  },
  {
   "cell_type": "markdown",
   "metadata": {},
   "source": [
    "The ECDF for Satisfaction Level shows how employee satisfaction is stratified; 25% of employees' satisfaction level is around .45 or less and 75% of employees'satisfaction level is around .85 or less. The first quartile of employee's satisfaction is flat and then increases steadily afterward. "
   ]
  },
  {
   "cell_type": "markdown",
   "metadata": {},
   "source": [
    "ECDF for Time Spent at Company"
   ]
  },
  {
   "cell_type": "code",
   "execution_count": 95,
   "metadata": {},
   "outputs": [
    {
     "name": "stdout",
     "output_type": "stream",
     "text": [
      "Percenitle Time Spent at Company Level: [2. 3. 3. 4. 8.]\n"
     ]
    }
   ],
   "source": [
    "# Percentile Calculation\n",
    "percentiles = np.array([2.5, 25, 50, 75, 97.5])\n",
    "\n",
    "ptiles_amount = np.percentile(df['time_spend_company'], percentiles)\n",
    "print('Percenitle Time Spent at Company Level: {}'.format(ptiles_amount))"
   ]
  },
  {
   "cell_type": "code",
   "execution_count": 96,
   "metadata": {},
   "outputs": [],
   "source": [
    "# ECDF for satisfaction \n",
    "\n",
    "def ecdf(df):\n",
    "    n = len(df)\n",
    "    x = np.sort(df)\n",
    "    y = np.arange (1, n+1) / n\n",
    "    \n",
    "    return x, y "
   ]
  },
  {
   "cell_type": "code",
   "execution_count": 97,
   "metadata": {},
   "outputs": [
    {
     "data": {
      "image/png": "[encoded data removed]",
      "text/plain": [
       "<Figure size 432x288 with 1 Axes>"
      ]
     },
     "metadata": {},
     "output_type": "display_data"
    },
    {
     "data": {
      "text/plain": [
       "<Figure size 432x288 with 0 Axes>"
      ]
     },
     "metadata": {},
     "output_type": "display_data"
    }
   ],
   "source": [
    "# Compute ECDF for Satisfaction Level\n",
    "x, y = ecdf(df['time_spend_company'])\n",
    "\n",
    "3# Generate Plot\n",
    "_ = plt.plot(x, y, marker = '.', linestyle = 'none')\n",
    "\n",
    "plt.margins(0.02)\n",
    "\n",
    "_= plt.plot(ptiles_amount, percentiles/100, marker = 'D', color = 'yellow', linestyle = 'none')\n",
    "\n",
    "_= plt.xlabel('Time Spent at Company')\n",
    "_= plt.ylabel('ECDF')\n",
    "\n",
    "plt.show()\n",
    "plt.savefig('HR_Time_Spent_ECDF')"
   ]
  },
  {
   "cell_type": "markdown",
   "metadata": {},
   "source": [
    "The ECDF for Time Spent at Company shows 75% of employees have spent less than four years at the company and only 25% of employees have more than four years at the company."
   ]
  },
  {
   "cell_type": "markdown",
   "metadata": {},
   "source": [
    "ECDF for Average Monthly Hours"
   ]
  },
  {
   "cell_type": "code",
   "execution_count": 98,
   "metadata": {},
   "outputs": [
    {
     "name": "stdout",
     "output_type": "stream",
     "text": [
      "Percenitle Average Monthly Hours Level: [118. 156. 200. 245. 286.]\n"
     ]
    }
   ],
   "source": [
    "# Percentile Calculation\n",
    "percentiles = np.array([2.5, 25, 50, 75, 97.5])\n",
    "\n",
    "ptiles_amount = np.percentile(df['average_montly_hours'], percentiles)\n",
    "print('Percenitle Average Monthly Hours Level: {}'.format(ptiles_amount))"
   ]
  },
  {
   "cell_type": "code",
   "execution_count": 99,
   "metadata": {},
   "outputs": [],
   "source": [
    "# ECDF for satisfaction \n",
    "\n",
    "def ecdf(df):\n",
    "    n = len(df)\n",
    "    x = np.sort(df)\n",
    "    y = np.arange (1, n+1) / n\n",
    "    \n",
    "    return x, y "
   ]
  },
  {
   "cell_type": "code",
   "execution_count": 100,
   "metadata": {},
   "outputs": [
    {
     "data": {
      "image/png": "[encoded data removed]",
      "text/plain": [
       "<Figure size 432x288 with 1 Axes>"
      ]
     },
     "metadata": {},
     "output_type": "display_data"
    },
    {
     "data": {
      "text/plain": [
       "<Figure size 432x288 with 0 Axes>"
      ]
     },
     "metadata": {},
     "output_type": "display_data"
    }
   ],
   "source": [
    "# Compute ECDF for Satisfaction Level\n",
    "x, y = ecdf(df['average_montly_hours'])\n",
    "\n",
    "3# Generate Plot\n",
    "_ = plt.plot(x, y, marker = '.', linestyle = 'none')\n",
    "\n",
    "plt.margins(0.02)\n",
    "\n",
    "_= plt.plot(ptiles_amount, percentiles/100, marker = 'D', color = 'yellow', linestyle = 'none')\n",
    "\n",
    "_= plt.xlabel('Average Monthly Hours')\n",
    "_= plt.ylabel('ECDF')\n",
    "\n",
    "plt.show()\n",
    "plt.savefig('HR_Monthly_Hours_ECDF')"
   ]
  },
  {
   "cell_type": "markdown",
   "metadata": {},
   "source": [
    "The ECDF for Average Monthly Hours shows how half of employees work than more than 200 hours a month and half work less than 200 hours a month. Average monthly working hours range from 160-185 hours depending on the month, so most employees are working over 40 hour weeks. "
   ]
  },
  {
   "cell_type": "markdown",
   "metadata": {},
   "source": [
    "# PCA Principle Component Analysis With Promotion As Target"
   ]
  },
  {
   "cell_type": "markdown",
   "metadata": {},
   "source": [
    "There aren't strong correlations between my chosen two target features and other features in the data set, so I will preform PCA to reduce the dimensionality and find the principle components in the data set. I did this use a pipeline function and a second method using eigen values which \"explain the variance of the data along the new feature axes\" (Raschka, 2015). I then used the eigen values to plot the explained variance of the values."
   ]
  },
  {
   "cell_type": "code",
   "execution_count": 19,
   "metadata": {},
   "outputs": [],
   "source": [
    "# Perform the necessary imports\n",
    "from sklearn.decomposition import PCA\n",
    "from sklearn.preprocessing import StandardScaler\n",
    "from sklearn.pipeline import make_pipeline\n",
    "import matplotlib.pyplot as plt"
   ]
  },
  {
   "cell_type": "code",
   "execution_count": 20,
   "metadata": {},
   "outputs": [],
   "source": [
    "# Separating out the features\n",
    "X = df.loc[:, ['satisfaction_level','last_evaluation', 'number_project', 'average_montly_hours', 'time_spend_company']]"
   ]
  },
  {
   "cell_type": "code",
   "execution_count": 21,
   "metadata": {},
   "outputs": [],
   "source": [
    "# Separating out the target\n",
    "y = df.loc[:,['promotion_last_5years']].values"
   ]
  },
  {
   "cell_type": "code",
   "execution_count": 22,
   "metadata": {},
   "outputs": [
    {
     "data": {
      "text/html": [
       "<div>\n",
       "<style scoped>\n",
       "    .dataframe tbody tr th:only-of-type {\n",
       "        vertical-align: middle;\n",
       "    }\n",
       "\n",
       "    .dataframe tbody tr th {\n",
       "        vertical-align: top;\n",
       "    }\n",
       "\n",
       "    .dataframe thead th {\n",
       "        text-align: right;\n",
       "    }\n",
       "</style>\n",
       "<table border=\"1\" class=\"dataframe\">\n",
       "  <thead>\n",
       "    <tr style=\"text-align: right;\">\n",
       "      <th></th>\n",
       "      <th>satisfaction_level</th>\n",
       "      <th>last_evaluation</th>\n",
       "      <th>number_project</th>\n",
       "      <th>average_montly_hours</th>\n",
       "      <th>time_spend_company</th>\n",
       "      <th>promotion_last_5years</th>\n",
       "    </tr>\n",
       "  </thead>\n",
       "  <tbody>\n",
       "    <tr>\n",
       "      <th>0</th>\n",
       "      <td>0.38</td>\n",
       "      <td>0.53</td>\n",
       "      <td>2</td>\n",
       "      <td>157</td>\n",
       "      <td>3</td>\n",
       "      <td>0</td>\n",
       "    </tr>\n",
       "    <tr>\n",
       "      <th>1</th>\n",
       "      <td>0.80</td>\n",
       "      <td>0.86</td>\n",
       "      <td>5</td>\n",
       "      <td>262</td>\n",
       "      <td>6</td>\n",
       "      <td>0</td>\n",
       "    </tr>\n",
       "    <tr>\n",
       "      <th>2</th>\n",
       "      <td>0.11</td>\n",
       "      <td>0.88</td>\n",
       "      <td>7</td>\n",
       "      <td>272</td>\n",
       "      <td>4</td>\n",
       "      <td>0</td>\n",
       "    </tr>\n",
       "    <tr>\n",
       "      <th>3</th>\n",
       "      <td>0.72</td>\n",
       "      <td>0.87</td>\n",
       "      <td>5</td>\n",
       "      <td>223</td>\n",
       "      <td>5</td>\n",
       "      <td>0</td>\n",
       "    </tr>\n",
       "    <tr>\n",
       "      <th>4</th>\n",
       "      <td>0.37</td>\n",
       "      <td>0.52</td>\n",
       "      <td>2</td>\n",
       "      <td>159</td>\n",
       "      <td>3</td>\n",
       "      <td>0</td>\n",
       "    </tr>\n",
       "  </tbody>\n",
       "</table>\n",
       "</div>"
      ],
      "text/plain": [
       "   satisfaction_level  last_evaluation  number_project  average_montly_hours  \\\n",
       "0                0.38             0.53               2                   157   \n",
       "1                0.80             0.86               5                   262   \n",
       "2                0.11             0.88               7                   272   \n",
       "3                0.72             0.87               5                   223   \n",
       "4                0.37             0.52               2                   159   \n",
       "\n",
       "   time_spend_company  promotion_last_5years  \n",
       "0                   3                      0  \n",
       "1                   6                      0  \n",
       "2                   4                      0  \n",
       "3                   5                      0  \n",
       "4                   3                      0  "
      ]
     },
     "execution_count": 22,
     "metadata": {},
     "output_type": "execute_result"
    }
   ],
   "source": [
    "# Make X a DataFrame\n",
    "df_x = pd.DataFrame(X,)\n",
    "# Make y a DataFrame\n",
    "df_y = pd.DataFrame(y, columns=['promotion_last_5years'])\n",
    "# Concatenate them together\n",
    "df = pd.concat([df_x, df_y], axis = 1)\n",
    "df.head()\n"
   ]
  },
  {
   "cell_type": "code",
   "execution_count": 23,
   "metadata": {},
   "outputs": [],
   "source": [
    "# Create scaler: scaler\n",
    "scaler = StandardScaler()"
   ]
  },
  {
   "cell_type": "code",
   "execution_count": 24,
   "metadata": {},
   "outputs": [],
   "source": [
    "# Create a PCA instance: pca\n",
    "pca = PCA()"
   ]
  },
  {
   "cell_type": "code",
   "execution_count": 25,
   "metadata": {},
   "outputs": [],
   "source": [
    "# Create pipeline: pipeline\n",
    "pipeline = make_pipeline(scaler,pca)"
   ]
  },
  {
   "cell_type": "code",
   "execution_count": 26,
   "metadata": {},
   "outputs": [
    {
     "data": {
      "text/plain": [
       "Pipeline(memory=None,\n",
       "     steps=[('standardscaler', StandardScaler(copy=True, with_mean=True, with_std=True)), ('pca', PCA(copy=True, iterated_power='auto', n_components=None, random_state=None,\n",
       "  svd_solver='auto', tol=0.0, whiten=False))])"
      ]
     },
     "execution_count": 26,
     "metadata": {},
     "output_type": "execute_result"
    }
   ],
   "source": [
    "# Fit the pipeline to HR DF above\n",
    "pipeline.fit(df)"
   ]
  },
  {
   "cell_type": "code",
   "execution_count": 27,
   "metadata": {},
   "outputs": [
    {
     "name": "stdout",
     "output_type": "stream",
     "text": [
      "[[-0.08661249  0.50724217  0.57890828  0.5491243   0.31370648  0.0109369 ]\n",
      " [-0.81774884 -0.37033704  0.106784   -0.12913349  0.39915682  0.08205403]\n",
      " [ 0.2409124   0.0142902  -0.09657111 -0.07528916  0.32177568  0.90731636]\n",
      " [ 0.32790084  0.06733132 -0.19113335 -0.25110652  0.78817534 -0.40882848]\n",
      " [-0.2763131   0.71193933 -0.00128488 -0.63210154 -0.12044203  0.05227982]\n",
      " [ 0.28614408 -0.30652984  0.77948881 -0.46207332 -0.05473429 -0.00711564]]\n"
     ]
    }
   ],
   "source": [
    "print(pca.components_)"
   ]
  },
  {
   "cell_type": "code",
   "execution_count": 28,
   "metadata": {},
   "outputs": [
    {
     "name": "stdout",
     "output_type": "stream",
     "text": [
      "[1.82986719 1.10980401 1.03158507 0.84593482 0.63410949 0.54909947]\n"
     ]
    }
   ],
   "source": [
    "print(pca.explained_variance_)"
   ]
  },
  {
   "cell_type": "code",
   "execution_count": 29,
   "metadata": {},
   "outputs": [
    {
     "data": {
      "image/png": "[encoded data removed]",
      "text/plain": [
       "<Figure size 432x288 with 1 Axes>"
      ]
     },
     "metadata": {},
     "output_type": "display_data"
    }
   ],
   "source": [
    "# Plot the explained variances\n",
    "features = range(pca.n_components_)\n",
    "plt.bar(features, pca.explained_variance_)\n",
    "plt.title('PCA Variances Scaled')\n",
    "plt.xlabel('PCA feature')\n",
    "plt.ylabel('variance')\n",
    "plt.xticks(features)\n",
    "plt.show()"
   ]
  },
  {
   "cell_type": "markdown",
   "metadata": {},
   "source": [
    "Eigen Vectors and Eigen Values\n"
   ]
  },
  {
   "cell_type": "code",
   "execution_count": 30,
   "metadata": {},
   "outputs": [],
   "source": [
    "# Standardizing the features\n",
    "X_std = StandardScaler().fit_transform(X)"
   ]
  },
  {
   "cell_type": "code",
   "execution_count": 31,
   "metadata": {},
   "outputs": [
    {
     "name": "stdout",
     "output_type": "stream",
     "text": [
      "Covariance matrix \n",
      "[[ 1.00006668  0.10502822 -0.14297912 -0.02004945 -0.1008728 ]\n",
      " [ 0.10502822  1.00006668  0.34935588  0.33976445  0.1315995 ]\n",
      " [-0.14297912  0.34935588  1.00006668  0.41723845  0.19679901]\n",
      " [-0.02004945  0.33976445  0.41723845  1.00006668  0.12776343]\n",
      " [-0.1008728   0.1315995   0.19679901  0.12776343  1.00006668]]\n"
     ]
    }
   ],
   "source": [
    "import numpy as np\n",
    "mean_vec = np.mean(X_std, axis=0)\n",
    "cov_mat = (X_std - mean_vec).T.dot((X_std - mean_vec)) / (X_std.shape[0]-1)\n",
    "print('Covariance matrix \\n%s' %cov_mat)"
   ]
  },
  {
   "cell_type": "code",
   "execution_count": 32,
   "metadata": {},
   "outputs": [
    {
     "name": "stdout",
     "output_type": "stream",
     "text": [
      "NumPy covariance matrix: \n",
      "[[ 1.00006668  0.10502822 -0.14297912 -0.02004945 -0.1008728 ]\n",
      " [ 0.10502822  1.00006668  0.34935588  0.33976445  0.1315995 ]\n",
      " [-0.14297912  0.34935588  1.00006668  0.41723845  0.19679901]\n",
      " [-0.02004945  0.33976445  0.41723845  1.00006668  0.12776343]\n",
      " [-0.1008728   0.1315995   0.19679901  0.12776343  1.00006668]]\n"
     ]
    }
   ],
   "source": [
    "print('NumPy covariance matrix: \\n%s' %np.cov(X_std.T))"
   ]
  },
  {
   "cell_type": "code",
   "execution_count": 33,
   "metadata": {},
   "outputs": [
    {
     "name": "stdout",
     "output_type": "stream",
     "text": [
      "Eigenvectors \n",
      "[[-0.08688429 -0.83127011  0.3820556  -0.28524747 -0.27222882]\n",
      " [ 0.50740199 -0.36996992  0.04741566  0.30553046  0.71419072]\n",
      " [ 0.57907693  0.11257602 -0.20954619 -0.77977926 -0.00559089]\n",
      " [ 0.54928085 -0.12457178 -0.25376183  0.46267183 -0.63585544]\n",
      " [ 0.31297732  0.37936893  0.86225321  0.05625046 -0.10714332]]\n",
      "\n",
      "Eigenvalues \n",
      "[1.82976857 1.10920534 0.87718038 0.54912136 0.63505773]\n"
     ]
    }
   ],
   "source": [
    "cov_mat = np.cov(X_std.T)\n",
    "\n",
    "eig_vals, eig_vecs = np.linalg.eig(cov_mat)\n",
    "\n",
    "print('Eigenvectors \\n%s' %eig_vecs)\n",
    "print('\\nEigenvalues \\n%s' %eig_vals)"
   ]
  },
  {
   "cell_type": "code",
   "execution_count": 34,
   "metadata": {},
   "outputs": [
    {
     "name": "stdout",
     "output_type": "stream",
     "text": [
      "Eigenvectors \n",
      "[[-0.08688429 -0.83127011  0.3820556  -0.28524747 -0.27222882]\n",
      " [ 0.50740199 -0.36996992  0.04741566  0.30553046  0.71419072]\n",
      " [ 0.57907693  0.11257602 -0.20954619 -0.77977926 -0.00559089]\n",
      " [ 0.54928085 -0.12457178 -0.25376183  0.46267183 -0.63585544]\n",
      " [ 0.31297732  0.37936893  0.86225321  0.05625046 -0.10714332]]\n",
      "\n",
      "Eigenvalues \n",
      "[1.82964658 1.10913139 0.8771219  0.54908475 0.63501539]\n"
     ]
    }
   ],
   "source": [
    "cor_mat1 = np.corrcoef(X_std.T)\n",
    "\n",
    "eig_vals, eig_vecs = np.linalg.eig(cor_mat1)\n",
    "\n",
    "print('Eigenvectors \\n%s' %eig_vecs)\n",
    "print('\\nEigenvalues \\n%s' %eig_vals)"
   ]
  },
  {
   "cell_type": "code",
   "execution_count": 35,
   "metadata": {},
   "outputs": [
    {
     "data": {
      "text/plain": [
       "array([[-0.08688429,  0.83127011, -0.3820556 ,  0.27222882, -0.28524747],\n",
       "       [ 0.50740199,  0.36996992, -0.04741566, -0.71419072,  0.30553046],\n",
       "       [ 0.57907693, -0.11257602,  0.20954619,  0.00559089, -0.77977926],\n",
       "       [ 0.54928085,  0.12457178,  0.25376183,  0.63585544,  0.46267183],\n",
       "       [ 0.31297732, -0.37936893, -0.86225321,  0.10714332,  0.05625046]])"
      ]
     },
     "execution_count": 35,
     "metadata": {},
     "output_type": "execute_result"
    }
   ],
   "source": [
    "u,s,v = np.linalg.svd(X_std.T)\n",
    "u"
   ]
  },
  {
   "cell_type": "code",
   "execution_count": 36,
   "metadata": {},
   "outputs": [
    {
     "name": "stdout",
     "output_type": "stream",
     "text": [
      "Everything ok!\n"
     ]
    }
   ],
   "source": [
    "for ev in eig_vecs:\n",
    "    np.testing.assert_array_almost_equal(1.0, np.linalg.norm(ev))\n",
    "print('Everything ok!')"
   ]
  },
  {
   "cell_type": "code",
   "execution_count": 37,
   "metadata": {},
   "outputs": [
    {
     "name": "stdout",
     "output_type": "stream",
     "text": [
      "Eigenvalues in descending order:\n",
      "1.8296465785482663\n",
      "1.1091313896296273\n",
      "0.8771218964505343\n",
      "0.6350153901788772\n",
      "0.5490847451926956\n"
     ]
    }
   ],
   "source": [
    "# Make a list of (eigenvalue, eigenvector) tuples\n",
    "eig_pairs = [(np.abs(eig_vals[i]), eig_vecs[:,i]) for i in range(len(eig_vals))]\n",
    "\n",
    "# Sort the (eigenvalue, eigenvector) tuples from high to low\n",
    "eig_pairs.sort()\n",
    "eig_pairs.reverse()\n",
    "\n",
    "# Visually confirm that the list is correctly sorted by decreasing eigenvalues\n",
    "print('Eigenvalues in descending order:')\n",
    "for i in eig_pairs:\n",
    "    print(i[0])"
   ]
  },
  {
   "cell_type": "code",
   "execution_count": 38,
   "metadata": {},
   "outputs": [],
   "source": [
    "tot = sum(eig_vals)\n",
    "var_exp = [(i / tot)*100 for i in sorted(eig_vals, reverse=True)]\n",
    "cum_var_exp = np.cumsum(var_exp)"
   ]
  },
  {
   "cell_type": "markdown",
   "metadata": {},
   "source": [
    "Cumulative Explained Variance Plot"
   ]
  },
  {
   "cell_type": "code",
   "execution_count": 39,
   "metadata": {},
   "outputs": [
    {
     "data": {
      "image/png": "[encoded data removed]",
      "text/plain": [
       "<Figure size 432x288 with 1 Axes>"
      ]
     },
     "metadata": {},
     "output_type": "display_data"
    }
   ],
   "source": [
    "with plt.style.context('seaborn-whitegrid'):\n",
    "    plt.figure(figsize=(6, 4))\n",
    "\n",
    "    plt.bar(range(5), var_exp, alpha=0.5, align='center',\n",
    "            label='individual explained variance')\n",
    "    plt.step(range(5), cum_var_exp, where='mid',\n",
    "             label='cumulative explained variance')\n",
    "    plt.ylabel('Explained variance ratio')\n",
    "    plt.xlabel('Principal components')\n",
    "    plt.legend(loc='best')\n",
    "    plt.tight_layout()"
   ]
  },
  {
   "cell_type": "markdown",
   "metadata": {},
   "source": [
    "# PCA With Employee Satisfaction As Target"
   ]
  },
  {
   "cell_type": "code",
   "execution_count": 81,
   "metadata": {},
   "outputs": [],
   "source": [
    "# Separating out the features\n",
    "X2 = df.loc[:, ['promotion_last_5years','last_evaluation', 'number_project', 'average_montly_hours', 'time_spend_company']]"
   ]
  },
  {
   "cell_type": "code",
   "execution_count": 82,
   "metadata": {},
   "outputs": [],
   "source": [
    "# Separating out the target\n",
    "y2 = df.loc[:,['satisfaction_level']].values"
   ]
  },
  {
   "cell_type": "code",
   "execution_count": 83,
   "metadata": {},
   "outputs": [
    {
     "data": {
      "text/html": [
       "<div>\n",
       "<style scoped>\n",
       "    .dataframe tbody tr th:only-of-type {\n",
       "        vertical-align: middle;\n",
       "    }\n",
       "\n",
       "    .dataframe tbody tr th {\n",
       "        vertical-align: top;\n",
       "    }\n",
       "\n",
       "    .dataframe thead th {\n",
       "        text-align: right;\n",
       "    }\n",
       "</style>\n",
       "<table border=\"1\" class=\"dataframe\">\n",
       "  <thead>\n",
       "    <tr style=\"text-align: right;\">\n",
       "      <th></th>\n",
       "      <th>promotion_last_5years</th>\n",
       "      <th>last_evaluation</th>\n",
       "      <th>number_project</th>\n",
       "      <th>average_montly_hours</th>\n",
       "      <th>time_spend_company</th>\n",
       "      <th>satisfaction_level</th>\n",
       "    </tr>\n",
       "  </thead>\n",
       "  <tbody>\n",
       "    <tr>\n",
       "      <th>0</th>\n",
       "      <td>0</td>\n",
       "      <td>0.53</td>\n",
       "      <td>2</td>\n",
       "      <td>157</td>\n",
       "      <td>3</td>\n",
       "      <td>0.38</td>\n",
       "    </tr>\n",
       "    <tr>\n",
       "      <th>1</th>\n",
       "      <td>0</td>\n",
       "      <td>0.86</td>\n",
       "      <td>5</td>\n",
       "      <td>262</td>\n",
       "      <td>6</td>\n",
       "      <td>0.80</td>\n",
       "    </tr>\n",
       "    <tr>\n",
       "      <th>2</th>\n",
       "      <td>0</td>\n",
       "      <td>0.88</td>\n",
       "      <td>7</td>\n",
       "      <td>272</td>\n",
       "      <td>4</td>\n",
       "      <td>0.11</td>\n",
       "    </tr>\n",
       "    <tr>\n",
       "      <th>3</th>\n",
       "      <td>0</td>\n",
       "      <td>0.87</td>\n",
       "      <td>5</td>\n",
       "      <td>223</td>\n",
       "      <td>5</td>\n",
       "      <td>0.72</td>\n",
       "    </tr>\n",
       "    <tr>\n",
       "      <th>4</th>\n",
       "      <td>0</td>\n",
       "      <td>0.52</td>\n",
       "      <td>2</td>\n",
       "      <td>159</td>\n",
       "      <td>3</td>\n",
       "      <td>0.37</td>\n",
       "    </tr>\n",
       "  </tbody>\n",
       "</table>\n",
       "</div>"
      ],
      "text/plain": [
       "   promotion_last_5years  last_evaluation  number_project  \\\n",
       "0                      0             0.53               2   \n",
       "1                      0             0.86               5   \n",
       "2                      0             0.88               7   \n",
       "3                      0             0.87               5   \n",
       "4                      0             0.52               2   \n",
       "\n",
       "   average_montly_hours  time_spend_company  satisfaction_level  \n",
       "0                   157                   3                0.38  \n",
       "1                   262                   6                0.80  \n",
       "2                   272                   4                0.11  \n",
       "3                   223                   5                0.72  \n",
       "4                   159                   3                0.37  "
      ]
     },
     "execution_count": 83,
     "metadata": {},
     "output_type": "execute_result"
    }
   ],
   "source": [
    "# Make X a DataFrame\n",
    "df_x2 = pd.DataFrame(X2,)\n",
    "# Make y a DataFrame\n",
    "df_y2 = pd.DataFrame(y2, columns=['satisfaction_level'])\n",
    "# Concatenate them together\n",
    "df2 = pd.concat([df_x2, df_y2], axis = 1)\n",
    "df2.head()\n"
   ]
  },
  {
   "cell_type": "code",
   "execution_count": 84,
   "metadata": {},
   "outputs": [],
   "source": [
    "# Create scaler: scaler\n",
    "scaler= StandardScaler()"
   ]
  },
  {
   "cell_type": "code",
   "execution_count": 85,
   "metadata": {},
   "outputs": [],
   "source": [
    "# Create a PCA instance: pca\n",
    "pca = PCA()"
   ]
  },
  {
   "cell_type": "code",
   "execution_count": 86,
   "metadata": {},
   "outputs": [],
   "source": [
    "# Create pipeline: pipeline\n",
    "pipeline2 = make_pipeline(scaler, pca)"
   ]
  },
  {
   "cell_type": "code",
   "execution_count": 87,
   "metadata": {},
   "outputs": [
    {
     "data": {
      "text/plain": [
       "Pipeline(memory=None,\n",
       "     steps=[('standardscaler', StandardScaler(copy=True, with_mean=True, with_std=True)), ('pca', PCA(copy=True, iterated_power='auto', n_components=None, random_state=None,\n",
       "  svd_solver='auto', tol=0.0, whiten=False))])"
      ]
     },
     "execution_count": 87,
     "metadata": {},
     "output_type": "execute_result"
    }
   ],
   "source": [
    "# Fit the pipeline to HR DF above\n",
    "pipeline2.fit(df2)"
   ]
  },
  {
   "cell_type": "code",
   "execution_count": 88,
   "metadata": {},
   "outputs": [
    {
     "ename": "TypeError",
     "evalue": "'StandardScaler' object is not callable",
     "output_type": "error",
     "traceback": [
      "\u001b[0;31m---------------------------------------------------------------------------\u001b[0m",
      "\u001b[0;31mTypeError\u001b[0m                                 Traceback (most recent call last)",
      "\u001b[0;32m<ipython-input-88-e9c55bf01397>\u001b[0m in \u001b[0;36m<module>\u001b[0;34m()\u001b[0m\n\u001b[0;32m----> 1\u001b[0;31m \u001b[0mscaler\u001b[0m\u001b[0;34m(\u001b[0m\u001b[0;34m)\u001b[0m\u001b[0;34m\u001b[0m\u001b[0m\n\u001b[0m",
      "\u001b[0;31mTypeError\u001b[0m: 'StandardScaler' object is not callable"
     ]
    }
   ],
   "source": [
    "scaler()"
   ]
  },
  {
   "cell_type": "code",
   "execution_count": 89,
   "metadata": {
    "scrolled": true
   },
   "outputs": [
    {
     "name": "stdout",
     "output_type": "stream",
     "text": [
      "[[ 0.0109369   0.50724217  0.57890828  0.5491243   0.31370648 -0.08661249]\n",
      " [ 0.08205403 -0.37033704  0.106784   -0.12913349  0.39915682 -0.81774884]\n",
      " [ 0.90731636  0.0142902  -0.09657111 -0.07528916  0.32177568  0.2409124 ]\n",
      " [-0.40882848  0.06733132 -0.19113335 -0.25110652  0.78817534  0.32790084]\n",
      " [ 0.05227982  0.71193933 -0.00128488 -0.63210154 -0.12044203 -0.2763131 ]\n",
      " [-0.00711564 -0.30652984  0.77948881 -0.46207332 -0.05473429  0.28614408]]\n"
     ]
    }
   ],
   "source": [
    "print(pca.components_)"
   ]
  },
  {
   "cell_type": "code",
   "execution_count": 90,
   "metadata": {},
   "outputs": [
    {
     "name": "stdout",
     "output_type": "stream",
     "text": [
      "[1.82986719 1.10980401 1.03158507 0.84593482 0.63410949 0.54909947]\n"
     ]
    }
   ],
   "source": [
    "print(pca.explained_variance_)"
   ]
  },
  {
   "cell_type": "code",
   "execution_count": 91,
   "metadata": {},
   "outputs": [
    {
     "data": {
      "image/png": "[encoded data removed]",
      "text/plain": [
       "<Figure size 432x288 with 1 Axes>"
      ]
     },
     "metadata": {},
     "output_type": "display_data"
    }
   ],
   "source": [
    "# Plot the explained variances\n",
    "features = range(pca.n_components_)\n",
    "plt.bar(features, pca.explained_variance_)\n",
    "plt.title('PCA Variances Scaled')\n",
    "plt.xlabel('PCA feature')\n",
    "plt.ylabel('variance')\n",
    "plt.xticks(features)\n",
    "plt.show()"
   ]
  },
  {
   "cell_type": "code",
   "execution_count": null,
   "metadata": {},
   "outputs": [],
   "source": []
  }
 ],
 "metadata": {
  "kernelspec": {
   "display_name": "Python 3",
   "language": "python",
   "name": "python3"
  },
  "language_info": {
   "codemirror_mode": {
    "name": "ipython",
    "version": 3
   },
   "file_extension": ".py",
   "mimetype": "text/x-python",
   "name": "python",
   "nbconvert_exporter": "python",
   "pygments_lexer": "ipython3",
   "version": "3.6.5"
  }
 },
 "nbformat": 4,
 "nbformat_minor": 2
}
