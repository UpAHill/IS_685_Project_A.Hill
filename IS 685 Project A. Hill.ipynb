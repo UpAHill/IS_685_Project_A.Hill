{
 "cells": [
  {
   "cell_type": "markdown",
   "metadata": {},
   "source": [
    "# HR Dataset Analysis "
   ]
  },
  {
   "cell_type": "markdown",
   "metadata": {},
   "source": [
    "Adrienne Hill\n",
    "\n",
    "12.4.2018\n",
    "\n",
    "IS 685 \n",
    "\n",
    "University of Nevada, Reno"
   ]
  },
  {
   "cell_type": "markdown",
   "metadata": {},
   "source": [
    "\n",
    "# Introduction to Data, Motivation and Hypothesis"
   ]
  },
  {
   "cell_type": "markdown",
   "metadata": {},
   "source": [
    "The human resources dataset used for this project is from Kaggle and has 10 attributes describing employee characteristics. There are 14,999 rows of data, and the dataset has been widely used online to model and predict employee turnover. However, I will use the attributes of the dataset to see if they are predictors of  \"Promotion Last 5 Years\" rather than employee turnover, aka \"Left\". Promotion within the last five years indicates the performance of an employee, whether high potential employees stay at the company and whether the company has made a worthwhile investment. I want to see if features in the dataset like employee satisfaction contribute to employee promotions since \"People who like their job and who are proud of their company are generally more engaged, even if the work environment is stressful and pressure is high\" (Vulpen, 2018).  \n",
    "\n",
    "The goal of this analysis is to understand which features in the dataset contribute the greatest to employee promotion and to compare the performance of logistic regression, random forest and support vector machine in my analysis. I chose\n",
    "these methods because they lend themselves well to modeling a binary feature and there are good examples of these methods from our class materials and online. I expect that the support vector machine model will outperform the other model because it is more tolerant of error and has a wider separating margin (Bhattacharyya, 2018) (Drakos, 2018)."
   ]
  },
  {
   "cell_type": "markdown",
   "metadata": {},
   "source": [
    "# Cleaning and Exploratory Data Analysis"
   ]
  },
  {
   "cell_type": "code",
   "execution_count": 383,
   "metadata": {},
   "outputs": [],
   "source": [
    "import pip\n",
    "import pandas as pd\n",
    "import matplotlib.pyplot as plt\n",
    "import seaborn as sns\n",
    "import numpy as np\n",
    "from sklearn.model_selection import train_test_split\n",
    "import os"
   ]
  },
  {
   "cell_type": "code",
   "execution_count": 384,
   "metadata": {},
   "outputs": [],
   "source": [
    "# pd.set_option('display.max_columns',15)\n",
    "\n",
    "pd.reset_option('display.max_columns')"
   ]
  },
  {
   "cell_type": "code",
   "execution_count": 385,
   "metadata": {},
   "outputs": [
    {
     "data": {
      "text/plain": [
       "(14999, 10)"
      ]
     },
     "execution_count": 385,
     "metadata": {},
     "output_type": "execute_result"
    }
   ],
   "source": [
    "data = pd.read_csv('/Users/adriennehill/Library/Mobile Documents/com~apple~CloudDocs/Classes/IS685/IS 685 Project/HR_Data.csv') \n",
    "data.shape"
   ]
  },
  {
   "cell_type": "code",
   "execution_count": 386,
   "metadata": {},
   "outputs": [
    {
     "data": {
      "text/html": [
       "<div>\n",
       "<style scoped>\n",
       "    .dataframe tbody tr th:only-of-type {\n",
       "        vertical-align: middle;\n",
       "    }\n",
       "\n",
       "    .dataframe tbody tr th {\n",
       "        vertical-align: top;\n",
       "    }\n",
       "\n",
       "    .dataframe thead th {\n",
       "        text-align: right;\n",
       "    }\n",
       "</style>\n",
       "<table border=\"1\" class=\"dataframe\">\n",
       "  <thead>\n",
       "    <tr style=\"text-align: right;\">\n",
       "      <th></th>\n",
       "      <th>satisfaction_level</th>\n",
       "      <th>last_evaluation</th>\n",
       "      <th>number_project</th>\n",
       "      <th>average_montly_hours</th>\n",
       "      <th>time_spend_company</th>\n",
       "      <th>Work_accident</th>\n",
       "      <th>left</th>\n",
       "      <th>promotion_last_5years</th>\n",
       "      <th>department</th>\n",
       "      <th>salary</th>\n",
       "    </tr>\n",
       "  </thead>\n",
       "  <tbody>\n",
       "    <tr>\n",
       "      <th>0</th>\n",
       "      <td>0.38</td>\n",
       "      <td>0.53</td>\n",
       "      <td>2</td>\n",
       "      <td>157</td>\n",
       "      <td>3</td>\n",
       "      <td>0</td>\n",
       "      <td>1</td>\n",
       "      <td>0</td>\n",
       "      <td>sales</td>\n",
       "      <td>low</td>\n",
       "    </tr>\n",
       "    <tr>\n",
       "      <th>1</th>\n",
       "      <td>0.80</td>\n",
       "      <td>0.86</td>\n",
       "      <td>5</td>\n",
       "      <td>262</td>\n",
       "      <td>6</td>\n",
       "      <td>0</td>\n",
       "      <td>1</td>\n",
       "      <td>0</td>\n",
       "      <td>sales</td>\n",
       "      <td>medium</td>\n",
       "    </tr>\n",
       "    <tr>\n",
       "      <th>2</th>\n",
       "      <td>0.11</td>\n",
       "      <td>0.88</td>\n",
       "      <td>7</td>\n",
       "      <td>272</td>\n",
       "      <td>4</td>\n",
       "      <td>0</td>\n",
       "      <td>1</td>\n",
       "      <td>0</td>\n",
       "      <td>sales</td>\n",
       "      <td>medium</td>\n",
       "    </tr>\n",
       "    <tr>\n",
       "      <th>3</th>\n",
       "      <td>0.72</td>\n",
       "      <td>0.87</td>\n",
       "      <td>5</td>\n",
       "      <td>223</td>\n",
       "      <td>5</td>\n",
       "      <td>0</td>\n",
       "      <td>1</td>\n",
       "      <td>0</td>\n",
       "      <td>sales</td>\n",
       "      <td>low</td>\n",
       "    </tr>\n",
       "    <tr>\n",
       "      <th>4</th>\n",
       "      <td>0.37</td>\n",
       "      <td>0.52</td>\n",
       "      <td>2</td>\n",
       "      <td>159</td>\n",
       "      <td>3</td>\n",
       "      <td>0</td>\n",
       "      <td>1</td>\n",
       "      <td>0</td>\n",
       "      <td>sales</td>\n",
       "      <td>low</td>\n",
       "    </tr>\n",
       "  </tbody>\n",
       "</table>\n",
       "</div>"
      ],
      "text/plain": [
       "   satisfaction_level  last_evaluation  number_project  average_montly_hours  \\\n",
       "0                0.38             0.53               2                   157   \n",
       "1                0.80             0.86               5                   262   \n",
       "2                0.11             0.88               7                   272   \n",
       "3                0.72             0.87               5                   223   \n",
       "4                0.37             0.52               2                   159   \n",
       "\n",
       "   time_spend_company  Work_accident  left  promotion_last_5years department  \\\n",
       "0                   3              0     1                      0      sales   \n",
       "1                   6              0     1                      0      sales   \n",
       "2                   4              0     1                      0      sales   \n",
       "3                   5              0     1                      0      sales   \n",
       "4                   3              0     1                      0      sales   \n",
       "\n",
       "   salary  \n",
       "0     low  \n",
       "1  medium  \n",
       "2  medium  \n",
       "3     low  \n",
       "4     low  "
      ]
     },
     "execution_count": 386,
     "metadata": {},
     "output_type": "execute_result"
    }
   ],
   "source": [
    "df=data\n",
    "df.head()"
   ]
  },
  {
   "cell_type": "code",
   "execution_count": 387,
   "metadata": {},
   "outputs": [
    {
     "name": "stdout",
     "output_type": "stream",
     "text": [
      "<class 'pandas.core.frame.DataFrame'>\n",
      "RangeIndex: 14999 entries, 0 to 14998\n",
      "Data columns (total 10 columns):\n",
      "satisfaction_level       14999 non-null float64\n",
      "last_evaluation          14999 non-null float64\n",
      "number_project           14999 non-null int64\n",
      "average_montly_hours     14999 non-null int64\n",
      "time_spend_company       14999 non-null int64\n",
      "Work_accident            14999 non-null int64\n",
      "left                     14999 non-null int64\n",
      "promotion_last_5years    14999 non-null int64\n",
      "department               14999 non-null object\n",
      "salary                   14999 non-null object\n",
      "dtypes: float64(2), int64(6), object(2)\n",
      "memory usage: 1.1+ MB\n"
     ]
    }
   ],
   "source": [
    "df.info()"
   ]
  },
  {
   "cell_type": "markdown",
   "metadata": {},
   "source": [
    "Finding Missing Data"
   ]
  },
  {
   "cell_type": "code",
   "execution_count": 388,
   "metadata": {},
   "outputs": [],
   "source": [
    "def missingData (data):\n",
    "    totalempty = data.isnull().sum().sort_values (ascending = False)\n",
    "    percentempty = (data.isnull().sum()/data.isnull().count()*100).sort_values(ascending = False)\n",
    "    missing_data = pd.concat([totalempty, percentempty], axis =1, keys = ['TotalMissing', 'PercentMissing'])\n",
    "    return missing_data"
   ]
  },
  {
   "cell_type": "code",
   "execution_count": 389,
   "metadata": {},
   "outputs": [
    {
     "data": {
      "text/html": [
       "<div>\n",
       "<style scoped>\n",
       "    .dataframe tbody tr th:only-of-type {\n",
       "        vertical-align: middle;\n",
       "    }\n",
       "\n",
       "    .dataframe tbody tr th {\n",
       "        vertical-align: top;\n",
       "    }\n",
       "\n",
       "    .dataframe thead th {\n",
       "        text-align: right;\n",
       "    }\n",
       "</style>\n",
       "<table border=\"1\" class=\"dataframe\">\n",
       "  <thead>\n",
       "    <tr style=\"text-align: right;\">\n",
       "      <th></th>\n",
       "      <th>TotalMissing</th>\n",
       "      <th>PercentMissing</th>\n",
       "    </tr>\n",
       "  </thead>\n",
       "  <tbody>\n",
       "    <tr>\n",
       "      <th>salary</th>\n",
       "      <td>0</td>\n",
       "      <td>0.0</td>\n",
       "    </tr>\n",
       "    <tr>\n",
       "      <th>department</th>\n",
       "      <td>0</td>\n",
       "      <td>0.0</td>\n",
       "    </tr>\n",
       "    <tr>\n",
       "      <th>promotion_last_5years</th>\n",
       "      <td>0</td>\n",
       "      <td>0.0</td>\n",
       "    </tr>\n",
       "    <tr>\n",
       "      <th>left</th>\n",
       "      <td>0</td>\n",
       "      <td>0.0</td>\n",
       "    </tr>\n",
       "    <tr>\n",
       "      <th>Work_accident</th>\n",
       "      <td>0</td>\n",
       "      <td>0.0</td>\n",
       "    </tr>\n",
       "    <tr>\n",
       "      <th>time_spend_company</th>\n",
       "      <td>0</td>\n",
       "      <td>0.0</td>\n",
       "    </tr>\n",
       "    <tr>\n",
       "      <th>average_montly_hours</th>\n",
       "      <td>0</td>\n",
       "      <td>0.0</td>\n",
       "    </tr>\n",
       "    <tr>\n",
       "      <th>number_project</th>\n",
       "      <td>0</td>\n",
       "      <td>0.0</td>\n",
       "    </tr>\n",
       "    <tr>\n",
       "      <th>last_evaluation</th>\n",
       "      <td>0</td>\n",
       "      <td>0.0</td>\n",
       "    </tr>\n",
       "    <tr>\n",
       "      <th>satisfaction_level</th>\n",
       "      <td>0</td>\n",
       "      <td>0.0</td>\n",
       "    </tr>\n",
       "  </tbody>\n",
       "</table>\n",
       "</div>"
      ],
      "text/plain": [
       "                       TotalMissing  PercentMissing\n",
       "salary                            0             0.0\n",
       "department                        0             0.0\n",
       "promotion_last_5years             0             0.0\n",
       "left                              0             0.0\n",
       "Work_accident                     0             0.0\n",
       "time_spend_company                0             0.0\n",
       "average_montly_hours              0             0.0\n",
       "number_project                    0             0.0\n",
       "last_evaluation                   0             0.0\n",
       "satisfaction_level                0             0.0"
      ]
     },
     "execution_count": 389,
     "metadata": {},
     "output_type": "execute_result"
    }
   ],
   "source": [
    "missingData(df)"
   ]
  },
  {
   "cell_type": "markdown",
   "metadata": {},
   "source": [
    "There aren't any missing data from the HR dataset--very clean! The data types are consistent and don't need to be corrected at this time. I will move on to exploratory data analysis. "
   ]
  },
  {
   "cell_type": "markdown",
   "metadata": {},
   "source": [
    "# Exploratory Data Analysis "
   ]
  },
  {
   "cell_type": "code",
   "execution_count": 390,
   "metadata": {},
   "outputs": [
    {
     "data": {
      "text/html": [
       "<div>\n",
       "<style scoped>\n",
       "    .dataframe tbody tr th:only-of-type {\n",
       "        vertical-align: middle;\n",
       "    }\n",
       "\n",
       "    .dataframe tbody tr th {\n",
       "        vertical-align: top;\n",
       "    }\n",
       "\n",
       "    .dataframe thead th {\n",
       "        text-align: right;\n",
       "    }\n",
       "</style>\n",
       "<table border=\"1\" class=\"dataframe\">\n",
       "  <thead>\n",
       "    <tr style=\"text-align: right;\">\n",
       "      <th></th>\n",
       "      <th>satisfaction_level</th>\n",
       "      <th>last_evaluation</th>\n",
       "      <th>number_project</th>\n",
       "      <th>average_montly_hours</th>\n",
       "      <th>time_spend_company</th>\n",
       "      <th>Work_accident</th>\n",
       "      <th>left</th>\n",
       "      <th>promotion_last_5years</th>\n",
       "    </tr>\n",
       "  </thead>\n",
       "  <tbody>\n",
       "    <tr>\n",
       "      <th>count</th>\n",
       "      <td>14999.000000</td>\n",
       "      <td>14999.000000</td>\n",
       "      <td>14999.000000</td>\n",
       "      <td>14999.000000</td>\n",
       "      <td>14999.000000</td>\n",
       "      <td>14999.000000</td>\n",
       "      <td>14999.000000</td>\n",
       "      <td>14999.000000</td>\n",
       "    </tr>\n",
       "    <tr>\n",
       "      <th>mean</th>\n",
       "      <td>0.612834</td>\n",
       "      <td>0.716102</td>\n",
       "      <td>3.803054</td>\n",
       "      <td>201.050337</td>\n",
       "      <td>3.498233</td>\n",
       "      <td>0.144610</td>\n",
       "      <td>0.238083</td>\n",
       "      <td>0.021268</td>\n",
       "    </tr>\n",
       "    <tr>\n",
       "      <th>std</th>\n",
       "      <td>0.248631</td>\n",
       "      <td>0.171169</td>\n",
       "      <td>1.232592</td>\n",
       "      <td>49.943099</td>\n",
       "      <td>1.460136</td>\n",
       "      <td>0.351719</td>\n",
       "      <td>0.425924</td>\n",
       "      <td>0.144281</td>\n",
       "    </tr>\n",
       "    <tr>\n",
       "      <th>min</th>\n",
       "      <td>0.090000</td>\n",
       "      <td>0.360000</td>\n",
       "      <td>2.000000</td>\n",
       "      <td>96.000000</td>\n",
       "      <td>2.000000</td>\n",
       "      <td>0.000000</td>\n",
       "      <td>0.000000</td>\n",
       "      <td>0.000000</td>\n",
       "    </tr>\n",
       "    <tr>\n",
       "      <th>25%</th>\n",
       "      <td>0.440000</td>\n",
       "      <td>0.560000</td>\n",
       "      <td>3.000000</td>\n",
       "      <td>156.000000</td>\n",
       "      <td>3.000000</td>\n",
       "      <td>0.000000</td>\n",
       "      <td>0.000000</td>\n",
       "      <td>0.000000</td>\n",
       "    </tr>\n",
       "    <tr>\n",
       "      <th>50%</th>\n",
       "      <td>0.640000</td>\n",
       "      <td>0.720000</td>\n",
       "      <td>4.000000</td>\n",
       "      <td>200.000000</td>\n",
       "      <td>3.000000</td>\n",
       "      <td>0.000000</td>\n",
       "      <td>0.000000</td>\n",
       "      <td>0.000000</td>\n",
       "    </tr>\n",
       "    <tr>\n",
       "      <th>75%</th>\n",
       "      <td>0.820000</td>\n",
       "      <td>0.870000</td>\n",
       "      <td>5.000000</td>\n",
       "      <td>245.000000</td>\n",
       "      <td>4.000000</td>\n",
       "      <td>0.000000</td>\n",
       "      <td>0.000000</td>\n",
       "      <td>0.000000</td>\n",
       "    </tr>\n",
       "    <tr>\n",
       "      <th>max</th>\n",
       "      <td>1.000000</td>\n",
       "      <td>1.000000</td>\n",
       "      <td>7.000000</td>\n",
       "      <td>310.000000</td>\n",
       "      <td>10.000000</td>\n",
       "      <td>1.000000</td>\n",
       "      <td>1.000000</td>\n",
       "      <td>1.000000</td>\n",
       "    </tr>\n",
       "  </tbody>\n",
       "</table>\n",
       "</div>"
      ],
      "text/plain": [
       "       satisfaction_level  last_evaluation  number_project  \\\n",
       "count        14999.000000     14999.000000    14999.000000   \n",
       "mean             0.612834         0.716102        3.803054   \n",
       "std              0.248631         0.171169        1.232592   \n",
       "min              0.090000         0.360000        2.000000   \n",
       "25%              0.440000         0.560000        3.000000   \n",
       "50%              0.640000         0.720000        4.000000   \n",
       "75%              0.820000         0.870000        5.000000   \n",
       "max              1.000000         1.000000        7.000000   \n",
       "\n",
       "       average_montly_hours  time_spend_company  Work_accident          left  \\\n",
       "count          14999.000000        14999.000000   14999.000000  14999.000000   \n",
       "mean             201.050337            3.498233       0.144610      0.238083   \n",
       "std               49.943099            1.460136       0.351719      0.425924   \n",
       "min               96.000000            2.000000       0.000000      0.000000   \n",
       "25%              156.000000            3.000000       0.000000      0.000000   \n",
       "50%              200.000000            3.000000       0.000000      0.000000   \n",
       "75%              245.000000            4.000000       0.000000      0.000000   \n",
       "max              310.000000           10.000000       1.000000      1.000000   \n",
       "\n",
       "       promotion_last_5years  \n",
       "count           14999.000000  \n",
       "mean                0.021268  \n",
       "std                 0.144281  \n",
       "min                 0.000000  \n",
       "25%                 0.000000  \n",
       "50%                 0.000000  \n",
       "75%                 0.000000  \n",
       "max                 1.000000  "
      ]
     },
     "execution_count": 390,
     "metadata": {},
     "output_type": "execute_result"
    }
   ],
   "source": [
    "df.describe()"
   ]
  },
  {
   "cell_type": "markdown",
   "metadata": {},
   "source": [
    "The mean satisfaction level is 0.61 which is lower than desired for most companies but above 0.5. The standard deviation is .25 which shows satisfaction level varies greatly in the company. "
   ]
  },
  {
   "cell_type": "markdown",
   "metadata": {},
   "source": [
    "Descriptive Data By Promotion In The Last 5 Years"
   ]
  },
  {
   "cell_type": "code",
   "execution_count": 391,
   "metadata": {
    "scrolled": true
   },
   "outputs": [
    {
     "data": {
      "text/html": [
       "<div>\n",
       "<style scoped>\n",
       "    .dataframe tbody tr th:only-of-type {\n",
       "        vertical-align: middle;\n",
       "    }\n",
       "\n",
       "    .dataframe tbody tr th {\n",
       "        vertical-align: top;\n",
       "    }\n",
       "\n",
       "    .dataframe thead tr th {\n",
       "        text-align: left;\n",
       "    }\n",
       "\n",
       "    .dataframe thead tr:last-of-type th {\n",
       "        text-align: right;\n",
       "    }\n",
       "</style>\n",
       "<table border=\"1\" class=\"dataframe\">\n",
       "  <thead>\n",
       "    <tr>\n",
       "      <th></th>\n",
       "      <th colspan=\"8\" halign=\"left\">Work_accident</th>\n",
       "      <th colspan=\"8\" halign=\"left\">average_montly_hours</th>\n",
       "      <th colspan=\"8\" halign=\"left\">last_evaluation</th>\n",
       "      <th colspan=\"8\" halign=\"left\">left</th>\n",
       "      <th colspan=\"8\" halign=\"left\">number_project</th>\n",
       "      <th colspan=\"8\" halign=\"left\">satisfaction_level</th>\n",
       "      <th colspan=\"8\" halign=\"left\">time_spend_company</th>\n",
       "    </tr>\n",
       "    <tr>\n",
       "      <th></th>\n",
       "      <th>count</th>\n",
       "      <th>mean</th>\n",
       "      <th>std</th>\n",
       "      <th>min</th>\n",
       "      <th>25%</th>\n",
       "      <th>50%</th>\n",
       "      <th>75%</th>\n",
       "      <th>max</th>\n",
       "      <th>count</th>\n",
       "      <th>mean</th>\n",
       "      <th>std</th>\n",
       "      <th>min</th>\n",
       "      <th>25%</th>\n",
       "      <th>50%</th>\n",
       "      <th>75%</th>\n",
       "      <th>max</th>\n",
       "      <th>count</th>\n",
       "      <th>mean</th>\n",
       "      <th>std</th>\n",
       "      <th>min</th>\n",
       "      <th>25%</th>\n",
       "      <th>50%</th>\n",
       "      <th>75%</th>\n",
       "      <th>max</th>\n",
       "      <th>count</th>\n",
       "      <th>mean</th>\n",
       "      <th>std</th>\n",
       "      <th>min</th>\n",
       "      <th>25%</th>\n",
       "      <th>50%</th>\n",
       "      <th>75%</th>\n",
       "      <th>max</th>\n",
       "      <th>count</th>\n",
       "      <th>mean</th>\n",
       "      <th>std</th>\n",
       "      <th>min</th>\n",
       "      <th>25%</th>\n",
       "      <th>50%</th>\n",
       "      <th>75%</th>\n",
       "      <th>max</th>\n",
       "      <th>count</th>\n",
       "      <th>mean</th>\n",
       "      <th>std</th>\n",
       "      <th>min</th>\n",
       "      <th>25%</th>\n",
       "      <th>50%</th>\n",
       "      <th>75%</th>\n",
       "      <th>max</th>\n",
       "      <th>count</th>\n",
       "      <th>mean</th>\n",
       "      <th>std</th>\n",
       "      <th>min</th>\n",
       "      <th>25%</th>\n",
       "      <th>50%</th>\n",
       "      <th>75%</th>\n",
       "      <th>max</th>\n",
       "    </tr>\n",
       "    <tr>\n",
       "      <th>promotion_last_5years</th>\n",
       "      <th></th>\n",
       "      <th></th>\n",
       "      <th></th>\n",
       "      <th></th>\n",
       "      <th></th>\n",
       "      <th></th>\n",
       "      <th></th>\n",
       "      <th></th>\n",
       "      <th></th>\n",
       "      <th></th>\n",
       "      <th></th>\n",
       "      <th></th>\n",
       "      <th></th>\n",
       "      <th></th>\n",
       "      <th></th>\n",
       "      <th></th>\n",
       "      <th></th>\n",
       "      <th></th>\n",
       "      <th></th>\n",
       "      <th></th>\n",
       "      <th></th>\n",
       "      <th></th>\n",
       "      <th></th>\n",
       "      <th></th>\n",
       "      <th></th>\n",
       "      <th></th>\n",
       "      <th></th>\n",
       "      <th></th>\n",
       "      <th></th>\n",
       "      <th></th>\n",
       "      <th></th>\n",
       "      <th></th>\n",
       "      <th></th>\n",
       "      <th></th>\n",
       "      <th></th>\n",
       "      <th></th>\n",
       "      <th></th>\n",
       "      <th></th>\n",
       "      <th></th>\n",
       "      <th></th>\n",
       "      <th></th>\n",
       "      <th></th>\n",
       "      <th></th>\n",
       "      <th></th>\n",
       "      <th></th>\n",
       "      <th></th>\n",
       "      <th></th>\n",
       "      <th></th>\n",
       "      <th></th>\n",
       "      <th></th>\n",
       "      <th></th>\n",
       "      <th></th>\n",
       "      <th></th>\n",
       "      <th></th>\n",
       "      <th></th>\n",
       "      <th></th>\n",
       "    </tr>\n",
       "  </thead>\n",
       "  <tbody>\n",
       "    <tr>\n",
       "      <th>0</th>\n",
       "      <td>14680.0</td>\n",
       "      <td>0.142575</td>\n",
       "      <td>0.349651</td>\n",
       "      <td>0.0</td>\n",
       "      <td>0.0</td>\n",
       "      <td>0.0</td>\n",
       "      <td>0.0</td>\n",
       "      <td>1.0</td>\n",
       "      <td>14680.0</td>\n",
       "      <td>201.076431</td>\n",
       "      <td>49.981489</td>\n",
       "      <td>96.0</td>\n",
       "      <td>156.0</td>\n",
       "      <td>200.0</td>\n",
       "      <td>245.0</td>\n",
       "      <td>310.0</td>\n",
       "      <td>14680.0</td>\n",
       "      <td>0.716321</td>\n",
       "      <td>0.171201</td>\n",
       "      <td>0.36</td>\n",
       "      <td>0.560</td>\n",
       "      <td>0.72</td>\n",
       "      <td>0.87</td>\n",
       "      <td>1.0</td>\n",
       "      <td>14680.0</td>\n",
       "      <td>0.241962</td>\n",
       "      <td>0.428286</td>\n",
       "      <td>0.0</td>\n",
       "      <td>0.0</td>\n",
       "      <td>0.0</td>\n",
       "      <td>0.0</td>\n",
       "      <td>1.0</td>\n",
       "      <td>14680.0</td>\n",
       "      <td>3.804155</td>\n",
       "      <td>1.236190</td>\n",
       "      <td>2.0</td>\n",
       "      <td>3.0</td>\n",
       "      <td>4.0</td>\n",
       "      <td>5.0</td>\n",
       "      <td>7.0</td>\n",
       "      <td>14680.0</td>\n",
       "      <td>0.611895</td>\n",
       "      <td>0.249281</td>\n",
       "      <td>0.09</td>\n",
       "      <td>0.44</td>\n",
       "      <td>0.64</td>\n",
       "      <td>0.82</td>\n",
       "      <td>1.0</td>\n",
       "      <td>14680.0</td>\n",
       "      <td>3.483719</td>\n",
       "      <td>1.437768</td>\n",
       "      <td>2.0</td>\n",
       "      <td>3.0</td>\n",
       "      <td>3.0</td>\n",
       "      <td>4.0</td>\n",
       "      <td>10.0</td>\n",
       "    </tr>\n",
       "    <tr>\n",
       "      <th>1</th>\n",
       "      <td>319.0</td>\n",
       "      <td>0.238245</td>\n",
       "      <td>0.426679</td>\n",
       "      <td>0.0</td>\n",
       "      <td>0.0</td>\n",
       "      <td>0.0</td>\n",
       "      <td>0.0</td>\n",
       "      <td>1.0</td>\n",
       "      <td>319.0</td>\n",
       "      <td>199.849530</td>\n",
       "      <td>48.203799</td>\n",
       "      <td>100.0</td>\n",
       "      <td>156.0</td>\n",
       "      <td>206.0</td>\n",
       "      <td>243.0</td>\n",
       "      <td>292.0</td>\n",
       "      <td>319.0</td>\n",
       "      <td>0.706019</td>\n",
       "      <td>0.169632</td>\n",
       "      <td>0.37</td>\n",
       "      <td>0.575</td>\n",
       "      <td>0.71</td>\n",
       "      <td>0.84</td>\n",
       "      <td>1.0</td>\n",
       "      <td>319.0</td>\n",
       "      <td>0.059561</td>\n",
       "      <td>0.237044</td>\n",
       "      <td>0.0</td>\n",
       "      <td>0.0</td>\n",
       "      <td>0.0</td>\n",
       "      <td>0.0</td>\n",
       "      <td>1.0</td>\n",
       "      <td>319.0</td>\n",
       "      <td>3.752351</td>\n",
       "      <td>1.054245</td>\n",
       "      <td>2.0</td>\n",
       "      <td>3.0</td>\n",
       "      <td>4.0</td>\n",
       "      <td>4.0</td>\n",
       "      <td>6.0</td>\n",
       "      <td>319.0</td>\n",
       "      <td>0.656019</td>\n",
       "      <td>0.212489</td>\n",
       "      <td>0.11</td>\n",
       "      <td>0.52</td>\n",
       "      <td>0.68</td>\n",
       "      <td>0.82</td>\n",
       "      <td>1.0</td>\n",
       "      <td>319.0</td>\n",
       "      <td>4.166144</td>\n",
       "      <td>2.161843</td>\n",
       "      <td>2.0</td>\n",
       "      <td>3.0</td>\n",
       "      <td>3.0</td>\n",
       "      <td>5.0</td>\n",
       "      <td>10.0</td>\n",
       "    </tr>\n",
       "  </tbody>\n",
       "</table>\n",
       "</div>"
      ],
      "text/plain": [
       "                      Work_accident                                          \\\n",
       "                              count      mean       std  min  25%  50%  75%   \n",
       "promotion_last_5years                                                         \n",
       "0                           14680.0  0.142575  0.349651  0.0  0.0  0.0  0.0   \n",
       "1                             319.0  0.238245  0.426679  0.0  0.0  0.0  0.0   \n",
       "\n",
       "                           average_montly_hours                                \\\n",
       "                       max                count        mean        std    min   \n",
       "promotion_last_5years                                                           \n",
       "0                      1.0              14680.0  201.076431  49.981489   96.0   \n",
       "1                      1.0                319.0  199.849530  48.203799  100.0   \n",
       "\n",
       "                                                  last_evaluation            \\\n",
       "                         25%    50%    75%    max           count      mean   \n",
       "promotion_last_5years                                                         \n",
       "0                      156.0  200.0  245.0  310.0         14680.0  0.716321   \n",
       "1                      156.0  206.0  243.0  292.0           319.0  0.706019   \n",
       "\n",
       "                                                                  left  \\\n",
       "                            std   min    25%   50%   75%  max    count   \n",
       "promotion_last_5years                                                    \n",
       "0                      0.171201  0.36  0.560  0.72  0.87  1.0  14680.0   \n",
       "1                      0.169632  0.37  0.575  0.71  0.84  1.0    319.0   \n",
       "\n",
       "                                                                    \\\n",
       "                           mean       std  min  25%  50%  75%  max   \n",
       "promotion_last_5years                                                \n",
       "0                      0.241962  0.428286  0.0  0.0  0.0  0.0  1.0   \n",
       "1                      0.059561  0.237044  0.0  0.0  0.0  0.0  1.0   \n",
       "\n",
       "                      number_project                                          \\\n",
       "                               count      mean       std  min  25%  50%  75%   \n",
       "promotion_last_5years                                                          \n",
       "0                            14680.0  3.804155  1.236190  2.0  3.0  4.0  5.0   \n",
       "1                              319.0  3.752351  1.054245  2.0  3.0  4.0  4.0   \n",
       "\n",
       "                           satisfaction_level                                  \\\n",
       "                       max              count      mean       std   min   25%   \n",
       "promotion_last_5years                                                           \n",
       "0                      7.0            14680.0  0.611895  0.249281  0.09  0.44   \n",
       "1                      6.0              319.0  0.656019  0.212489  0.11  0.52   \n",
       "\n",
       "                                       time_spend_company                      \\\n",
       "                        50%   75%  max              count      mean       std   \n",
       "promotion_last_5years                                                           \n",
       "0                      0.64  0.82  1.0            14680.0  3.483719  1.437768   \n",
       "1                      0.68  0.82  1.0              319.0  4.166144  2.161843   \n",
       "\n",
       "                                                 \n",
       "                       min  25%  50%  75%   max  \n",
       "promotion_last_5years                            \n",
       "0                      2.0  3.0  3.0  4.0  10.0  \n",
       "1                      2.0  3.0  3.0  5.0  10.0  "
      ]
     },
     "metadata": {},
     "output_type": "display_data"
    }
   ],
   "source": [
    "promotiondescribe = df.groupby(['promotion_last_5years']).describe()\n",
    "\n",
    "with pd.option_context('display.max_rows', 100, 'display.max_columns', 56):\n",
    "    display(promotiondescribe)\n"
   ]
  },
  {
   "cell_type": "code",
   "execution_count": 392,
   "metadata": {},
   "outputs": [
    {
     "data": {
      "text/plain": [
       "2.173024523160763"
      ]
     },
     "execution_count": 392,
     "metadata": {},
     "output_type": "execute_result"
    }
   ],
   "source": [
    "# Percentage of employee promoted in company\n",
    "319/14680*100"
   ]
  },
  {
   "cell_type": "markdown",
   "metadata": {},
   "source": [
    "By grouping 'promotion_last_5years' we can see the means of the other features and characteristics of 'promotion_last_5years'. \n",
    "* Only 2.17% of employees were promoted in the company.\n",
    "* The average monthly hours between employees who received a promotion or not differs by less than two hours. \n",
    "* The average number of projects is slightly greater for those who did not receive a promotion though it may not be statistically significant. \n",
    "* The average satisfaction level among this with a promotion is slightly greater than those without a promotion; Are employees more satisfied when they have been promoted or are those who are more satisfied more likely to seek a promotion? Just a thought. \n",
    "* The average time spent at the company for employees who received a promotion is 4.17 years and 3.48 years for employees who did not. This makes sense since time and experience result in seniority, however, even a promotion doesn't prevent the large attrition that occurs after 5 years as was seen in the histogram earlier. "
   ]
  },
  {
   "cell_type": "code",
   "execution_count": 393,
   "metadata": {},
   "outputs": [
    {
     "data": {
      "image/png": "[encoded data removed]",
      "text/plain": [
       "<Figure size 1440x1080 with 9 Axes>"
      ]
     },
     "metadata": {},
     "output_type": "display_data"
    }
   ],
   "source": [
    "num_bins = 10 \n",
    "\n",
    "df.hist(bins= num_bins, figsize = (20,15))\n",
    "plt.savefig('HR_Histogram_Plots')\n",
    "plt.show()"
   ]
  },
  {
   "cell_type": "markdown",
   "metadata": {},
   "source": [
    "Notes: From the histograms, we see that employee satisfaction level is left skewed and the mean is less than the median. Employee satisfaction does seem to skew high or over 0.5. Very few people were promoted in the last five years which I believe could depress employee satisfaction and could make promotion harder to predict. The time spent at the company is right skewed, so the mean is greater than the median and the company has a hard time retaining employees for over five years. "
   ]
  },
  {
   "cell_type": "code",
   "execution_count": 394,
   "metadata": {},
   "outputs": [
    {
     "data": {
      "image/png": "[encoded data removed]",
      "text/plain": [
       "<Figure size 1152x360 with 2 Axes>"
      ]
     },
     "metadata": {},
     "output_type": "display_data"
    }
   ],
   "source": [
    "corr_matrix = df.corr()\n",
    "corr = np.corrcoef(df.corr())\n",
    "mask = np.zeros_like (corr)\n",
    "mask[np.triu_indices_from(mask)] = True\n",
    "plt.figure(figsize=(16,5))\n",
    "with sns.axes_style('white'):\n",
    "    sns.heatmap(corr_matrix, mask= mask, annot = True, linewidths= .3, cmap = 'YlGnBu')\n",
    "plt.savefig('HR_Correlation_Matrix')\n",
    "\n",
    "plt.show()"
   ]
  },
  {
   "cell_type": "markdown",
   "metadata": {},
   "source": [
    "* The correlation Matrix shows that there are few strong correlations between the features. Average monthly hours and number of projects have the strongest correlation at 0.42 which is still low. \n",
    "* The strongest correlation with satisfaction level is Left at -0.39 followed by last evaluation at 0.11.  \n",
    "* The strongest correlation with promotion in the last five years is time spent at the company at 0.067--an obvious correlation but still a weak correlation!"
   ]
  },
  {
   "cell_type": "code",
   "execution_count": 395,
   "metadata": {},
   "outputs": [
    {
     "data": {
      "text/plain": [
       "Text(0.5,0.98,'Satisfaction level Vs Promotion')"
      ]
     },
     "execution_count": 395,
     "metadata": {},
     "output_type": "execute_result"
    },
    {
     "data": {
      "image/png": "[encoded data removed]",
      "text/plain": [
       "<Figure size 864x360 with 2 Axes>"
      ]
     },
     "metadata": {},
     "output_type": "display_data"
    }
   ],
   "source": [
    "fig,ax=plt.subplots(ncols=2,figsize=(12,5))\n",
    "NoPromotion=df[df.promotion_last_5years==0]\n",
    "Promotion=df[df.promotion_last_5years==1]\n",
    "sns.kdeplot(Promotion.satisfaction_level,shade=True,color=\"b\",ax=ax[0],legend=False)\n",
    "ax[0].set_xlabel(\"Satisfaction Level\")\n",
    "ax[0].set_ylabel(\"Density\")\n",
    "ax[0].set_title(\"Employees Promoted\")\n",
    "sns.kdeplot(NoPromotion.satisfaction_level,shade=True,color=\"y\",ax=ax[1],legend=False)\n",
    "ax[1].set_xlabel(\"Satisfaction Level\")\n",
    "ax[1].set_ylabel('Density')\n",
    "ax[1].set_title('Employees Not Promoted')\n",
    "plt.suptitle(\"Satisfaction level Vs Promotion\",fontsize=12)"
   ]
  },
  {
   "cell_type": "code",
   "execution_count": 396,
   "metadata": {},
   "outputs": [
    {
     "data": {
      "image/png": "[encoded data removed]",
      "text/plain": [
       "<Figure size 432x288 with 1 Axes>"
      ]
     },
     "metadata": {},
     "output_type": "display_data"
    }
   ],
   "source": [
    "# List the Promotion Variables\n",
    "Promo = [0, 1]\n",
    "\n",
    "# Iterate through the five airlines\n",
    "for Promoted in Promo:\n",
    "    # Subset to the airline\n",
    "    subset = df[df['promotion_last_5years'] == Promoted]\n",
    "    \n",
    "    # Draw the density plot\n",
    "    sns.distplot(subset['satisfaction_level'], hist = False, kde = True,\n",
    "                 kde_kws = {'shade': True,'linewidth': 3},\n",
    "                 label = Promoted)\n",
    "    \n",
    "# Plot formatting\n",
    "plt.legend(prop={'size': 16}, title = 'Promotion?')\n",
    "plt.title('Density Plot Promotion in Last five Years')\n",
    "plt.xlabel('Satisfaction Level')\n",
    "plt.ylabel('Density')\n",
    "plt.savefig('HR_Satisfaction_Level_Density_Plot')"
   ]
  },
  {
   "cell_type": "code",
   "execution_count": 397,
   "metadata": {},
   "outputs": [
    {
     "data": {
      "text/plain": [
       "(319,)"
      ]
     },
     "execution_count": 397,
     "metadata": {},
     "output_type": "execute_result"
    }
   ],
   "source": [
    "sf1= data['satisfaction_level'].loc[data['promotion_last_5years']==1]\n",
    "sf1.shape"
   ]
  },
  {
   "cell_type": "code",
   "execution_count": 398,
   "metadata": {},
   "outputs": [
    {
     "data": {
      "text/plain": [
       "(14680,)"
      ]
     },
     "execution_count": 398,
     "metadata": {},
     "output_type": "execute_result"
    }
   ],
   "source": [
    "sf0= data['satisfaction_level'].loc[data['promotion_last_5years']==0]\n",
    "sf0.shape"
   ]
  },
  {
   "cell_type": "code",
   "execution_count": 399,
   "metadata": {
    "scrolled": true
   },
   "outputs": [
    {
     "name": "stdout",
     "output_type": "stream",
     "text": [
      "The results of the independent t-test are: \n",
      "\tt-value = 3.655\n",
      "\tp-value = 0.000\n",
      "\n",
      "The difference between groups is -0.0 [-0.1 to -0.0] (mean [95% CI])\n"
     ]
    }
   ],
   "source": [
    "from scipy import stats\n",
    "from math import sqrt\n",
    "from scipy.stats import t\n",
    "\n",
    "# Run independent t-test\n",
    "ind_t_test = stats.ttest_ind(sf1, sf0, equal_var = False)\n",
    "\n",
    "# Calculate the mean difference and 95% confidence interval\n",
    "N1 = 319\n",
    "N0 = 14680\n",
    "df = (N0 + N1 - 2)\n",
    "std1 = sf1.std()\n",
    "std0 = sf0.std()\n",
    "std_N1N0 = sqrt( ((N1 - 1)*(std1)**2 + (N0 - 1)*(std0)**2) / df) \n",
    "\n",
    "diff_mean = sf0.mean() - sf1.mean()\n",
    "MoE = t.ppf(0.975, df) * std_N1N0 * sqrt(1/N0 + 1/N1)\n",
    "\n",
    "print('The results of the independent t-test are: \\n\\tt-value = {:4.3f}\\n\\tp-value = {:4.3f}'.format(ind_t_test[0],ind_t_test[1]))\n",
    "print ('\\nThe difference between groups is {:3.1f} [{:3.1f} to {:3.1f}] (mean [95% CI])'.format(diff_mean, diff_mean - MoE, diff_mean + MoE))\n"
   ]
  },
  {
   "cell_type": "markdown",
   "metadata": {},
   "source": [
    "The density plot between promotion and satisfaction show that the distribution for employees who received a promotion is more concentrated from 0.6 through 0.8 satisfaction level whereas the distribution for employees who didn't receive a promotion has two peaks around 0.1 and 0.6 through 0.8 satisfaction level. The density graphs overlap quite a bit which I initially thought would result in the two groups being statistically the same, however, the two groups are statistically different according to the independent t-test I ran.\n",
    "\n",
    "The p-value is significant and we can reject the null hypothesis that employees who received a promotion have the same satisfaction level than those who didn't. The results of the t-test support the alternative hypothesis that employees who received a promotion have a different satisfaction level than those who didn't. "
   ]
  },
  {
   "cell_type": "code",
   "execution_count": 402,
   "metadata": {
    "scrolled": true
   },
   "outputs": [
    {
     "data": {
      "text/plain": [
       "Text(0.5,0.98,'Years at Company Vs Promotion')"
      ]
     },
     "execution_count": 402,
     "metadata": {},
     "output_type": "execute_result"
    },
    {
     "data": {
      "image/png": "[encoded data removed]",
      "text/plain": [
       "<Figure size 864x360 with 2 Axes>"
      ]
     },
     "metadata": {},
     "output_type": "display_data"
    }
   ],
   "source": [
    "df = data\n",
    "\n",
    "fig,ax=plt.subplots(ncols=2,figsize=(12,5))\n",
    "NoPromotion=df[df.promotion_last_5years==0]\n",
    "Promotion=df[df.promotion_last_5years==1]\n",
    "sns.kdeplot(Promotion.time_spend_company,shade=True,color=\"b\",ax=ax[0],legend=False)\n",
    "ax[0].set_xlabel(\"Years at Company\")\n",
    "ax[0].set_ylabel(\"Density\")\n",
    "ax[0].set_title(\"Employees Promoted\")\n",
    "sns.kdeplot(NoPromotion.time_spend_company,shade=True,color=\"y\",ax=ax[1],legend=False)\n",
    "ax[1].set_xlabel(\"Years at Company\")\n",
    "ax[1].set_ylabel('Density')\n",
    "ax[1].set_title('Employees Not Promoted')\n",
    "plt.suptitle(\"Years at Company Vs Promotion\",fontsize=12)"
   ]
  },
  {
   "cell_type": "code",
   "execution_count": 403,
   "metadata": {},
   "outputs": [
    {
     "data": {
      "image/png": "[encoded data removed]",
      "text/plain": [
       "<Figure size 432x288 with 1 Axes>"
      ]
     },
     "metadata": {},
     "output_type": "display_data"
    }
   ],
   "source": [
    "# List the Promotion Variables\n",
    "Promo = [0, 1]\n",
    "\n",
    "# Iterate through the five airlines\n",
    "for Promoted in Promo:\n",
    "    # Subset to the airline\n",
    "    subset = df[df['promotion_last_5years'] == Promoted]\n",
    "    \n",
    "    # Draw the density plot\n",
    "    sns.distplot(subset['time_spend_company'], hist = False, kde = True,\n",
    "                 kde_kws = {'shade': True,'linewidth': 3},\n",
    "                 label = Promoted)\n",
    "    \n",
    "# Plot formatting\n",
    "plt.legend(prop={'size': 16}, title = 'Promotion?')\n",
    "plt.title('Density Plot Promotion in Last five Years')\n",
    "plt.xlabel('Years at Company')\n",
    "plt.ylabel('Density')\n",
    "plt.savefig('HR_Year_At_Company_Density_Plot')"
   ]
  },
  {
   "cell_type": "code",
   "execution_count": 404,
   "metadata": {
    "scrolled": true
   },
   "outputs": [
    {
     "data": {
      "text/plain": [
       "(319,)"
      ]
     },
     "execution_count": 404,
     "metadata": {},
     "output_type": "execute_result"
    }
   ],
   "source": [
    "Y1= data['time_spend_company'].loc[data['promotion_last_5years']==1]\n",
    "Y1.shape"
   ]
  },
  {
   "cell_type": "code",
   "execution_count": 405,
   "metadata": {},
   "outputs": [
    {
     "data": {
      "text/plain": [
       "(14680,)"
      ]
     },
     "execution_count": 405,
     "metadata": {},
     "output_type": "execute_result"
    }
   ],
   "source": [
    "Y0= data['time_spend_company'].loc[data['promotion_last_5years']==0]\n",
    "Y0.shape"
   ]
  },
  {
   "cell_type": "code",
   "execution_count": 406,
   "metadata": {},
   "outputs": [
    {
     "name": "stdout",
     "output_type": "stream",
     "text": [
      "The results of the independent t-test are: \n",
      "\tt-value = 5.611\n",
      "\tp-value = 0.000\n",
      "\n",
      "The difference between groups is -0.7 [-0.8 to -0.5] (mean [95% CI])\n"
     ]
    }
   ],
   "source": [
    "from scipy import stats\n",
    "from math import sqrt\n",
    "from scipy.stats import t\n",
    "\n",
    "# Run independent t-test\n",
    "ind_t_test = stats.ttest_ind(Y1, Y0, equal_var = False)\n",
    "\n",
    "# Calculate the mean difference and 95% confidence interval\n",
    "YN1 = 319\n",
    "YN0 = 14680\n",
    "df = (YN0 + YN1 - 2)\n",
    "stdY1 = Y1.std()\n",
    "stdY0 = Y0.std()\n",
    "std_Y1Y0 = sqrt( ((YN1 - 1)*(stdY1)**2 + (YN0 - 1)*(stdY0)**2) / df) \n",
    "\n",
    "diff_mean = Y0.mean() - Y1.mean()\n",
    "MoE = t.ppf(0.975, df) * std_Y1Y0 * sqrt(1/YN0 + 1/YN1)\n",
    "\n",
    "print('The results of the independent t-test are: \\n\\tt-value = {:4.3f}\\n\\tp-value = {:4.3f}'.format(ind_t_test[0],ind_t_test[1]))\n",
    "print ('\\nThe difference between groups is {:3.1f} [{:3.1f} to {:3.1f}] (mean [95% CI])'.format(diff_mean, diff_mean - MoE, diff_mean + MoE))\n"
   ]
  },
  {
   "cell_type": "markdown",
   "metadata": {},
   "source": [
    "The density plots between promotion and years at company show that the distribution for employees who received a promotion is more concentrated from 2 to four years at the company whereas the distribution for employees who didn't receive a promotion has peaks strong peaks at years 2, 3 and 4 years and then tapers off. The density graphs overlap less than satisfaction which means there is more to differentiate employees who received a promotion and those who didn't by years at the company, but this is not surprising nor very insightful. \n",
    "\n",
    "I ran an independent t-test on the two groups and found that the two groups are statistically different. The p-value is statistically significant and we can reject the null hypothesis that the years at the company for those who received a promotion in the last five years and those who did not are the same. "
   ]
  },
  {
   "cell_type": "markdown",
   "metadata": {},
   "source": [
    "# ECDFs  "
   ]
  },
  {
   "cell_type": "markdown",
   "metadata": {},
   "source": [
    "ECDF for Satisfaction Level"
   ]
  },
  {
   "cell_type": "code",
   "execution_count": 410,
   "metadata": {},
   "outputs": [
    {
     "name": "stdout",
     "output_type": "stream",
     "text": [
      "Percenitle Satisfaction Level: [0.1  0.44 0.64 0.82 0.98]\n"
     ]
    }
   ],
   "source": [
    "df= data\n",
    "# Percentile Calculation\n",
    "percentiles = np.array([2.5, 25, 50, 75, 97.5])\n",
    "\n",
    "ptiles_amount = np.percentile(df['satisfaction_level'], percentiles)\n",
    "print('Percenitle Satisfaction Level: {}'.format(ptiles_amount))"
   ]
  },
  {
   "cell_type": "code",
   "execution_count": 411,
   "metadata": {},
   "outputs": [],
   "source": [
    "# ECDF for satisfaction \n",
    "\n",
    "def ecdf(df):\n",
    "    n = len(df)\n",
    "    x = np.sort(df)\n",
    "    y = np.arange (1, n+1) / n\n",
    "    \n",
    "    return x, y "
   ]
  },
  {
   "cell_type": "code",
   "execution_count": 412,
   "metadata": {},
   "outputs": [
    {
     "data": {
      "image/png": "[encoded data removed]",
      "text/plain": [
       "<Figure size 432x288 with 1 Axes>"
      ]
     },
     "metadata": {},
     "output_type": "display_data"
    },
    {
     "data": {
      "text/plain": [
       "<Figure size 432x288 with 0 Axes>"
      ]
     },
     "metadata": {},
     "output_type": "display_data"
    }
   ],
   "source": [
    "# Compute ECDF for Satisfaction Level\n",
    "x, y = ecdf(df['satisfaction_level'])\n",
    "\n",
    "3# Generate Plot\n",
    "_ = plt.plot(x, y, marker = '.', linestyle = 'none')\n",
    "\n",
    "plt.margins(0.02)\n",
    "\n",
    "_= plt.plot(ptiles_amount, percentiles/100, marker = 'D', color = 'yellow', linestyle = 'none')\n",
    "\n",
    "_= plt.xlabel('Satisfaction Level')\n",
    "_= plt.ylabel('ECDF')\n",
    "\n",
    "plt.show()\n",
    "plt.savefig('HR_Satisfaction_ECDF')"
   ]
  },
  {
   "cell_type": "markdown",
   "metadata": {},
   "source": [
    "The ECDF for Satisfaction Level shows how employee satisfaction is stratified; 25% of employees' satisfaction level is around .45 or less and 75% of employees'satisfaction level is around .85 or less. The first quartile of employee's satisfaction is flat and then increases steadily afterward. "
   ]
  },
  {
   "cell_type": "markdown",
   "metadata": {},
   "source": [
    "ECDF for Time Spent at Company"
   ]
  },
  {
   "cell_type": "code",
   "execution_count": 413,
   "metadata": {},
   "outputs": [
    {
     "name": "stdout",
     "output_type": "stream",
     "text": [
      "Percenitle Time Spent at Company Level: [2. 3. 3. 4. 8.]\n"
     ]
    }
   ],
   "source": [
    "# Percentile Calculation\n",
    "percentiles = np.array([2.5, 25, 50, 75, 97.5])\n",
    "\n",
    "ptiles_amount = np.percentile(df['time_spend_company'], percentiles)\n",
    "print('Percenitle Time Spent at Company Level: {}'.format(ptiles_amount))"
   ]
  },
  {
   "cell_type": "code",
   "execution_count": 414,
   "metadata": {},
   "outputs": [],
   "source": [
    "# ECDF for satisfaction \n",
    "\n",
    "def ecdf(df):\n",
    "    n = len(df)\n",
    "    x = np.sort(df)\n",
    "    y = np.arange (1, n+1) / n\n",
    "    \n",
    "    return x, y "
   ]
  },
  {
   "cell_type": "code",
   "execution_count": 415,
   "metadata": {},
   "outputs": [
    {
     "data": {
      "image/png": "[encoded data removed]",
      "text/plain": [
       "<Figure size 432x288 with 1 Axes>"
      ]
     },
     "metadata": {},
     "output_type": "display_data"
    },
    {
     "data": {
      "text/plain": [
       "<Figure size 432x288 with 0 Axes>"
      ]
     },
     "metadata": {},
     "output_type": "display_data"
    }
   ],
   "source": [
    "# Compute ECDF for Satisfaction Level\n",
    "x, y = ecdf(df['time_spend_company'])\n",
    "\n",
    "3# Generate Plot\n",
    "_ = plt.plot(x, y, marker = '.', linestyle = 'none')\n",
    "\n",
    "plt.margins(0.02)\n",
    "\n",
    "_= plt.plot(ptiles_amount, percentiles/100, marker = 'D', color = 'yellow', linestyle = 'none')\n",
    "\n",
    "_= plt.xlabel('Time Spent at Company')\n",
    "_= plt.ylabel('ECDF')\n",
    "\n",
    "plt.show()\n",
    "plt.savefig('HR_Time_Spent_ECDF')"
   ]
  },
  {
   "cell_type": "markdown",
   "metadata": {},
   "source": [
    "The ECDF for Time Spent at Company shows 75% of employees have spent less than four years at the company and only 25% of employees have more than four years at the company."
   ]
  },
  {
   "cell_type": "markdown",
   "metadata": {},
   "source": [
    "ECDF for Average Monthly Hours"
   ]
  },
  {
   "cell_type": "code",
   "execution_count": 416,
   "metadata": {},
   "outputs": [
    {
     "name": "stdout",
     "output_type": "stream",
     "text": [
      "Percenitle Average Monthly Hours Level: [118. 156. 200. 245. 286.]\n"
     ]
    }
   ],
   "source": [
    "# Percentile Calculation\n",
    "percentiles = np.array([2.5, 25, 50, 75, 97.5])\n",
    "\n",
    "ptiles_amount = np.percentile(df['average_montly_hours'], percentiles)\n",
    "print('Percenitle Average Monthly Hours Level: {}'.format(ptiles_amount))"
   ]
  },
  {
   "cell_type": "code",
   "execution_count": 417,
   "metadata": {},
   "outputs": [],
   "source": [
    "# ECDF for satisfaction \n",
    "\n",
    "def ecdf(df):\n",
    "    n = len(df)\n",
    "    x = np.sort(df)\n",
    "    y = np.arange (1, n+1) / n\n",
    "    \n",
    "    return x, y "
   ]
  },
  {
   "cell_type": "code",
   "execution_count": 418,
   "metadata": {},
   "outputs": [
    {
     "data": {
      "image/png": "[encoded data removed]",
      "text/plain": [
       "<Figure size 432x288 with 1 Axes>"
      ]
     },
     "metadata": {},
     "output_type": "display_data"
    },
    {
     "data": {
      "text/plain": [
       "<Figure size 432x288 with 0 Axes>"
      ]
     },
     "metadata": {},
     "output_type": "display_data"
    }
   ],
   "source": [
    "# Compute ECDF for Satisfaction Level\n",
    "x, y = ecdf(df['average_montly_hours'])\n",
    "\n",
    "3# Generate Plot\n",
    "_ = plt.plot(x, y, marker = '.', linestyle = 'none')\n",
    "\n",
    "plt.margins(0.02)\n",
    "\n",
    "_= plt.plot(ptiles_amount, percentiles/100, marker = 'D', color = 'yellow', linestyle = 'none')\n",
    "\n",
    "_= plt.xlabel('Average Monthly Hours')\n",
    "_= plt.ylabel('ECDF')\n",
    "\n",
    "plt.show()\n",
    "plt.savefig('HR_Monthly_Hours_ECDF')"
   ]
  },
  {
   "cell_type": "markdown",
   "metadata": {},
   "source": [
    "The ECDF for Average Monthly Hours shows how half of the employees work than more than 200 hours a month and a half work less than 200 hours a month. Average monthly working hours range from 160-185 hours depending on the month, so most employees are working over 40 hour weeks. "
   ]
  },
  {
   "cell_type": "markdown",
   "metadata": {},
   "source": [
    "# PCA Principal Component Analysis"
   ]
  },
  {
   "cell_type": "markdown",
   "metadata": {},
   "source": [
    "There aren't strong correlations between my chosen target feature and other features in the dataset so I will perform PCA to reduce the dimensionality and find the principal components in the dataset. I did this use a pipeline function and a second method using eigenvalues which \"explain the variance of the data along the new feature axes\" (Raschka, 2015). I then used the eigenvalues to plot the explained variance of the values."
   ]
  },
  {
   "cell_type": "code",
   "execution_count": 419,
   "metadata": {},
   "outputs": [],
   "source": [
    "# Perform the necessary imports\n",
    "from sklearn.decomposition import PCA\n",
    "from sklearn.preprocessing import StandardScaler\n",
    "from sklearn.pipeline import make_pipeline\n",
    "from sklearn.linear_model import LogisticRegression as LR\n",
    "import matplotlib.pyplot as plt"
   ]
  },
  {
   "cell_type": "code",
   "execution_count": 420,
   "metadata": {},
   "outputs": [],
   "source": [
    "# Separating out the features\n",
    "X = data.loc[:, ['satisfaction_level','last_evaluation', 'number_project', 'average_montly_hours', 'time_spend_company']]"
   ]
  },
  {
   "cell_type": "code",
   "execution_count": 421,
   "metadata": {},
   "outputs": [],
   "source": [
    "# Separating out the target\n",
    "y = df.loc[:,['promotion_last_5years']].values"
   ]
  },
  {
   "cell_type": "code",
   "execution_count": 422,
   "metadata": {
    "scrolled": true
   },
   "outputs": [
    {
     "data": {
      "text/html": [
       "<div>\n",
       "<style scoped>\n",
       "    .dataframe tbody tr th:only-of-type {\n",
       "        vertical-align: middle;\n",
       "    }\n",
       "\n",
       "    .dataframe tbody tr th {\n",
       "        vertical-align: top;\n",
       "    }\n",
       "\n",
       "    .dataframe thead th {\n",
       "        text-align: right;\n",
       "    }\n",
       "</style>\n",
       "<table border=\"1\" class=\"dataframe\">\n",
       "  <thead>\n",
       "    <tr style=\"text-align: right;\">\n",
       "      <th></th>\n",
       "      <th>satisfaction_level</th>\n",
       "      <th>last_evaluation</th>\n",
       "      <th>number_project</th>\n",
       "      <th>average_montly_hours</th>\n",
       "      <th>time_spend_company</th>\n",
       "      <th>promotion_last_5years</th>\n",
       "    </tr>\n",
       "  </thead>\n",
       "  <tbody>\n",
       "    <tr>\n",
       "      <th>0</th>\n",
       "      <td>0.38</td>\n",
       "      <td>0.53</td>\n",
       "      <td>2</td>\n",
       "      <td>157</td>\n",
       "      <td>3</td>\n",
       "      <td>0</td>\n",
       "    </tr>\n",
       "    <tr>\n",
       "      <th>1</th>\n",
       "      <td>0.80</td>\n",
       "      <td>0.86</td>\n",
       "      <td>5</td>\n",
       "      <td>262</td>\n",
       "      <td>6</td>\n",
       "      <td>0</td>\n",
       "    </tr>\n",
       "    <tr>\n",
       "      <th>2</th>\n",
       "      <td>0.11</td>\n",
       "      <td>0.88</td>\n",
       "      <td>7</td>\n",
       "      <td>272</td>\n",
       "      <td>4</td>\n",
       "      <td>0</td>\n",
       "    </tr>\n",
       "    <tr>\n",
       "      <th>3</th>\n",
       "      <td>0.72</td>\n",
       "      <td>0.87</td>\n",
       "      <td>5</td>\n",
       "      <td>223</td>\n",
       "      <td>5</td>\n",
       "      <td>0</td>\n",
       "    </tr>\n",
       "    <tr>\n",
       "      <th>4</th>\n",
       "      <td>0.37</td>\n",
       "      <td>0.52</td>\n",
       "      <td>2</td>\n",
       "      <td>159</td>\n",
       "      <td>3</td>\n",
       "      <td>0</td>\n",
       "    </tr>\n",
       "  </tbody>\n",
       "</table>\n",
       "</div>"
      ],
      "text/plain": [
       "   satisfaction_level  last_evaluation  number_project  average_montly_hours  \\\n",
       "0                0.38             0.53               2                   157   \n",
       "1                0.80             0.86               5                   262   \n",
       "2                0.11             0.88               7                   272   \n",
       "3                0.72             0.87               5                   223   \n",
       "4                0.37             0.52               2                   159   \n",
       "\n",
       "   time_spend_company  promotion_last_5years  \n",
       "0                   3                      0  \n",
       "1                   6                      0  \n",
       "2                   4                      0  \n",
       "3                   5                      0  \n",
       "4                   3                      0  "
      ]
     },
     "execution_count": 422,
     "metadata": {},
     "output_type": "execute_result"
    }
   ],
   "source": [
    "# Make X a DataFrame\n",
    "df_x = pd.DataFrame(X,)\n",
    "# Make y a DataFrame\n",
    "df_y = pd.DataFrame(y, columns=['promotion_last_5years'])\n",
    "# Concatenate them together\n",
    "df = pd.concat([df_x, df_y], axis = 1)\n",
    "df.head()\n"
   ]
  },
  {
   "cell_type": "code",
   "execution_count": 423,
   "metadata": {},
   "outputs": [],
   "source": [
    "# Create scaler: scaler\n",
    "scaler = StandardScaler()"
   ]
  },
  {
   "cell_type": "code",
   "execution_count": 424,
   "metadata": {},
   "outputs": [],
   "source": [
    "# Create a PCA instance: pca\n",
    "pca = PCA()"
   ]
  },
  {
   "cell_type": "code",
   "execution_count": 425,
   "metadata": {},
   "outputs": [],
   "source": [
    "# Create pipeline: pipeline\n",
    "pipeline = make_pipeline(scaler,pca)"
   ]
  },
  {
   "cell_type": "code",
   "execution_count": 426,
   "metadata": {},
   "outputs": [
    {
     "data": {
      "text/plain": [
       "Pipeline(memory=None,\n",
       "     steps=[('standardscaler', StandardScaler(copy=True, with_mean=True, with_std=True)), ('pca', PCA(copy=True, iterated_power='auto', n_components=None, random_state=None,\n",
       "  svd_solver='auto', tol=0.0, whiten=False))])"
      ]
     },
     "execution_count": 426,
     "metadata": {},
     "output_type": "execute_result"
    }
   ],
   "source": [
    "# Fit the pipeline to HR DF above\n",
    "pipeline.fit(df)"
   ]
  },
  {
   "cell_type": "code",
   "execution_count": 427,
   "metadata": {},
   "outputs": [
    {
     "name": "stdout",
     "output_type": "stream",
     "text": [
      "[[-0.08661249  0.50724217  0.57890828  0.5491243   0.31370648  0.0109369 ]\n",
      " [-0.81774884 -0.37033704  0.106784   -0.12913349  0.39915682  0.08205403]\n",
      " [ 0.2409124   0.0142902  -0.09657111 -0.07528916  0.32177568  0.90731636]\n",
      " [ 0.32790084  0.06733132 -0.19113335 -0.25110652  0.78817534 -0.40882848]\n",
      " [-0.2763131   0.71193933 -0.00128488 -0.63210154 -0.12044203  0.05227982]\n",
      " [ 0.28614408 -0.30652984  0.77948881 -0.46207332 -0.05473429 -0.00711564]]\n"
     ]
    }
   ],
   "source": [
    "print(pca.components_)"
   ]
  },
  {
   "cell_type": "code",
   "execution_count": 428,
   "metadata": {},
   "outputs": [
    {
     "name": "stdout",
     "output_type": "stream",
     "text": [
      "[1.82986719 1.10980401 1.03158507 0.84593482 0.63410949 0.54909947]\n"
     ]
    }
   ],
   "source": [
    "print(pca.explained_variance_)"
   ]
  },
  {
   "cell_type": "code",
   "execution_count": 429,
   "metadata": {
    "scrolled": true
   },
   "outputs": [
    {
     "data": {
      "image/png": "[encoded data removed]",
      "text/plain": [
       "<Figure size 432x288 with 1 Axes>"
      ]
     },
     "metadata": {},
     "output_type": "display_data"
    }
   ],
   "source": [
    "# Plot the explained variances\n",
    "features = range(pca.n_components_)\n",
    "plt.bar(features, pca.explained_variance_)\n",
    "plt.title('PCA Variances Scaled')\n",
    "plt.xlabel('PCA feature')\n",
    "plt.ylabel('variance')\n",
    "plt.xticks(features)\n",
    "plt.show()"
   ]
  },
  {
   "cell_type": "markdown",
   "metadata": {},
   "source": [
    "PCA Interpretation"
   ]
  },
  {
   "cell_type": "markdown",
   "metadata": {},
   "source": [
    "Scaling and PCA feature selection show us one or two components will give us the intrinsic value of the dataset as opposed to three or more."
   ]
  },
  {
   "cell_type": "markdown",
   "metadata": {},
   "source": [
    "# Eigenvectors and Eigenvalues\n"
   ]
  },
  {
   "cell_type": "markdown",
   "metadata": {},
   "source": [
    "PCA analysis can be reinforced with eigenvectors and eigenvalues which \"determine the directions of the new feature space, and the eigenvalues determine their magnitude. In other words, the eigenvalues explain the variance of the data along the new feature axes\" (Raschka, 2015)."
   ]
  },
  {
   "cell_type": "code",
   "execution_count": 430,
   "metadata": {},
   "outputs": [],
   "source": [
    "# Separating out the features\n",
    "X = df.loc[:, ['satisfaction_level','last_evaluation', 'number_project', 'average_montly_hours', 'time_spend_company']]"
   ]
  },
  {
   "cell_type": "code",
   "execution_count": 431,
   "metadata": {},
   "outputs": [],
   "source": [
    "# Separating out the target\n",
    "y = df.loc[:,['promotion_last_5years']].values"
   ]
  },
  {
   "cell_type": "code",
   "execution_count": 432,
   "metadata": {},
   "outputs": [],
   "source": [
    "# Standardizing the features\n",
    "X_std = StandardScaler().fit_transform(df)"
   ]
  },
  {
   "cell_type": "code",
   "execution_count": 433,
   "metadata": {},
   "outputs": [
    {
     "name": "stdout",
     "output_type": "stream",
     "text": [
      "Covariance matrix \n",
      "[[ 1.00006668  0.10502822 -0.14297912 -0.02004945 -0.1008728   0.02560689]\n",
      " [ 0.10502822  1.00006668  0.34935588  0.33976445  0.1315995  -0.00868435]\n",
      " [-0.14297912  0.34935588  1.00006668  0.41723845  0.19679901 -0.00606436]\n",
      " [-0.02004945  0.33976445  0.41723845  1.00006668  0.12776343 -0.00354465]\n",
      " [-0.1008728   0.1315995   0.19679901  0.12776343  1.00006668  0.06743742]\n",
      " [ 0.02560689 -0.00868435 -0.00606436 -0.00354465  0.06743742  1.00006668]]\n"
     ]
    }
   ],
   "source": [
    "import numpy as np\n",
    "mean_vec = np.mean(X_std, axis=0)\n",
    "cov_mat = (X_std - mean_vec).T.dot((X_std - mean_vec)) / (X_std.shape[0]-1)\n",
    "print('Covariance matrix \\n%s' %cov_mat)"
   ]
  },
  {
   "cell_type": "code",
   "execution_count": 434,
   "metadata": {},
   "outputs": [
    {
     "name": "stdout",
     "output_type": "stream",
     "text": [
      "NumPy covariance matrix: \n",
      "[[ 1.00006668  0.10502822 -0.14297912 -0.02004945 -0.1008728   0.02560689]\n",
      " [ 0.10502822  1.00006668  0.34935588  0.33976445  0.1315995  -0.00868435]\n",
      " [-0.14297912  0.34935588  1.00006668  0.41723845  0.19679901 -0.00606436]\n",
      " [-0.02004945  0.33976445  0.41723845  1.00006668  0.12776343 -0.00354465]\n",
      " [-0.1008728   0.1315995   0.19679901  0.12776343  1.00006668  0.06743742]\n",
      " [ 0.02560689 -0.00868435 -0.00606436 -0.00354465  0.06743742  1.00006668]]\n"
     ]
    }
   ],
   "source": [
    "print('NumPy covariance matrix: \\n%s' %np.cov(X_std.T))"
   ]
  },
  {
   "cell_type": "code",
   "execution_count": 435,
   "metadata": {},
   "outputs": [
    {
     "name": "stdout",
     "output_type": "stream",
     "text": [
      "Eigenvectors \n",
      "[[ 0.08661249  0.28614408 -0.2763131  -0.32790084 -0.81774884  0.2409124 ]\n",
      " [-0.50724217 -0.30652984  0.71193933 -0.06733132 -0.37033704  0.0142902 ]\n",
      " [-0.57890828  0.77948881 -0.00128488  0.19113335  0.106784   -0.09657111]\n",
      " [-0.5491243  -0.46207332 -0.63210154  0.25110652 -0.12913349 -0.07528916]\n",
      " [-0.31370648 -0.05473429 -0.12044203 -0.78817534  0.39915682  0.32177568]\n",
      " [-0.0109369  -0.00711564  0.05227982  0.40882848  0.08205403  0.90731636]]\n",
      "\n",
      "Eigenvalues \n",
      "[1.82986719 0.54909947 0.63410949 0.84593482 1.10980401 1.03158507]\n"
     ]
    }
   ],
   "source": [
    "cov_mat = np.cov(X_std.T)\n",
    "\n",
    "eig_vals, eig_vecs = np.linalg.eig(cov_mat)\n",
    "\n",
    "print('Eigenvectors \\n%s' %eig_vecs)\n",
    "print('\\nEigenvalues \\n%s' %eig_vals)"
   ]
  },
  {
   "cell_type": "code",
   "execution_count": 436,
   "metadata": {
    "scrolled": true
   },
   "outputs": [
    {
     "name": "stdout",
     "output_type": "stream",
     "text": [
      "Eigenvectors \n",
      "[[ 0.08661249  0.28614408 -0.2763131  -0.32790084 -0.81774884  0.2409124 ]\n",
      " [-0.50724217 -0.30652984  0.71193933 -0.06733132 -0.37033704  0.0142902 ]\n",
      " [-0.57890828  0.77948881 -0.00128488  0.19113335  0.106784   -0.09657111]\n",
      " [-0.5491243  -0.46207332 -0.63210154  0.25110652 -0.12913349 -0.07528916]\n",
      " [-0.31370648 -0.05473429 -0.12044203 -0.78817534  0.39915682  0.32177568]\n",
      " [-0.0109369  -0.00711564  0.05227982  0.40882848  0.08205403  0.90731636]]\n",
      "\n",
      "Eigenvalues \n",
      "[1.82974519 0.54906286 0.63406721 0.84587842 1.10973002 1.03151629]\n"
     ]
    }
   ],
   "source": [
    "cor_mat1 = np.corrcoef(X_std.T)\n",
    "\n",
    "eig_vals, eig_vecs = np.linalg.eig(cor_mat1)\n",
    "\n",
    "print('Eigenvectors \\n%s' %eig_vecs)\n",
    "print('\\nEigenvalues \\n%s' %eig_vals)"
   ]
  },
  {
   "cell_type": "code",
   "execution_count": 437,
   "metadata": {},
   "outputs": [
    {
     "name": "stdout",
     "output_type": "stream",
     "text": [
      "Eigenvalues in descending order:\n",
      "1.8297451888769882\n",
      "1.1097300227034586\n",
      "1.0315162930425443\n",
      "0.8458784190736656\n",
      "0.6340672136415012\n",
      "0.5490628626618415\n"
     ]
    }
   ],
   "source": [
    "# Make a list of (eigenvalue, eigenvector) tuples\n",
    "eig_pairs = [(np.abs(eig_vals[i]), eig_vecs[:,i]) for i in range(len(eig_vals))]\n",
    "\n",
    "# Sort the (eigenvalue, eigenvector) tuples from high to low\n",
    "eig_pairs.sort()\n",
    "eig_pairs.reverse()\n",
    "\n",
    "# Visually confirm that the list is correctly sorted by decreasing eigenvalues\n",
    "print('Eigenvalues in descending order:')\n",
    "for i in eig_pairs:\n",
    "    print(i[0])"
   ]
  },
  {
   "cell_type": "markdown",
   "metadata": {},
   "source": [
    "Eigenvalues are another way to analyze features. Eigenvalues show how much information each eigenvector contains. As the scores descend, each vector contains less information about the distribution of the data and you should only choose the top eigenvalues or top features. The top eigenvalues in this list are the top two."
   ]
  },
  {
   "cell_type": "markdown",
   "metadata": {},
   "source": [
    "Cumulative Explained Variance Plot"
   ]
  },
  {
   "cell_type": "code",
   "execution_count": 438,
   "metadata": {},
   "outputs": [],
   "source": [
    "tot = sum(eig_vals)\n",
    "var_exp = [(i / tot)*100 for i in sorted(eig_vals, reverse=True)]\n",
    "cum_var_exp = np.cumsum(var_exp)"
   ]
  },
  {
   "cell_type": "code",
   "execution_count": 439,
   "metadata": {},
   "outputs": [
    {
     "data": {
      "image/png": "[encoded data removed]",
      "text/plain": [
       "<Figure size 504x360 with 1 Axes>"
      ]
     },
     "metadata": {},
     "output_type": "display_data"
    }
   ],
   "source": [
    "with plt.style.context('seaborn-whitegrid'):\n",
    "    plt.figure(figsize=(7, 5))\n",
    "\n",
    "    plt.bar(range(6), var_exp, alpha=0.5, align='center',\n",
    "            label='individual explained variance')\n",
    "    plt.step(range(6), cum_var_exp, where='mid',\n",
    "             label='cumulative explained variance')\n",
    "    plt.ylabel('Explained variance ratio')\n",
    "    plt.xlabel('Principal features')\n",
    "    plt.legend(loc='best')\n",
    "    plt.tight_layout()"
   ]
  },
  {
   "cell_type": "markdown",
   "metadata": {},
   "source": [
    "The explained variance plot shows that one feature explains a little over 30% of the variance or information in the model, a second feature explains around 20% and a third component explains around 15%. The variance for the third feature and on explains less of the variance. The cumulative variance plot shows two to three components are just as useful as using four or five components/features. "
   ]
  },
  {
   "cell_type": "markdown",
   "metadata": {},
   "source": [
    "# Creating Dummy Variables for Categorical Variables "
   ]
  },
  {
   "cell_type": "markdown",
   "metadata": {},
   "source": [
    "In order to add categorical variables to a model, I will need to create dummy variables for salary and department."
   ]
  },
  {
   "cell_type": "code",
   "execution_count": 440,
   "metadata": {},
   "outputs": [],
   "source": [
    "cat_vars=['salary','department']\n",
    "for var in cat_vars:\n",
    "    cat_list='var'+'_'+var\n",
    "    cat_list = pd.get_dummies(data[var], prefix=var)\n",
    "    data.join(cat_list)"
   ]
  },
  {
   "cell_type": "code",
   "execution_count": 441,
   "metadata": {},
   "outputs": [
    {
     "data": {
      "text/plain": [
       "array(['satisfaction_level', 'last_evaluation', 'number_project',\n",
       "       'average_montly_hours', 'time_spend_company',\n",
       "       'promotion_last_5years', 'Department_IT', 'Department_RandD',\n",
       "       'Department_accounting', 'Department_hr', 'Department_management',\n",
       "       'Department_marketing', 'Department_product_mng',\n",
       "       'Department_sales', 'Department_support', 'Department_technical',\n",
       "       'Salary_high', 'Salary_low', 'Salary_medium'], dtype=object)"
      ]
     },
     "execution_count": 441,
     "metadata": {},
     "output_type": "execute_result"
    }
   ],
   "source": [
    "dummies1 = pd.get_dummies(data['department']).rename(columns=lambda x: 'Department_' + str(x))\n",
    "dummies2 = pd.get_dummies(data['salary']).rename(columns=lambda x: 'Salary_' + str(x))\n",
    "\n",
    "hr = pd.concat([df, dummies1, dummies2], axis=1)      \n",
    "#step_1.drop(['dummy', 'c'], inplace=True, axis=1)\n",
    "hr.columns.values"
   ]
  },
  {
   "cell_type": "code",
   "execution_count": 442,
   "metadata": {},
   "outputs": [],
   "source": [
    "hr_vars=hr.columns.values.tolist()\n",
    "y=['promotion_last_5years']\n",
    "X=[i for i in hr_vars if i not in y]"
   ]
  },
  {
   "cell_type": "code",
   "execution_count": 443,
   "metadata": {},
   "outputs": [
    {
     "data": {
      "text/plain": [
       "['satisfaction_level',\n",
       " 'last_evaluation',\n",
       " 'number_project',\n",
       " 'average_montly_hours',\n",
       " 'time_spend_company',\n",
       " 'Department_IT',\n",
       " 'Department_RandD',\n",
       " 'Department_accounting',\n",
       " 'Department_hr',\n",
       " 'Department_management',\n",
       " 'Department_marketing',\n",
       " 'Department_product_mng',\n",
       " 'Department_sales',\n",
       " 'Department_support',\n",
       " 'Department_technical',\n",
       " 'Salary_high',\n",
       " 'Salary_low',\n",
       " 'Salary_medium']"
      ]
     },
     "execution_count": 443,
     "metadata": {},
     "output_type": "execute_result"
    }
   ],
   "source": [
    "X"
   ]
  },
  {
   "cell_type": "markdown",
   "metadata": {},
   "source": [
    "# Feature Selection"
   ]
  },
  {
   "cell_type": "markdown",
   "metadata": {},
   "source": [
    "I am now going to choose the most important features using the feature selection feature from sklearn, and the most important features will be given a \"True\" designation with rfe.support and \"1\" ranking with rfe.ranking. I chose to only use two features because of the results from my PCA tests which showed most variance could be explained with 2-3 features. "
   ]
  },
  {
   "cell_type": "code",
   "execution_count": 444,
   "metadata": {},
   "outputs": [
    {
     "name": "stderr",
     "output_type": "stream",
     "text": [
      "/Users/adriennehill/anaconda3/lib/python3.6/site-packages/sklearn/utils/validation.py:578: DataConversionWarning: A column-vector y was passed when a 1d array was expected. Please change the shape of y to (n_samples, ), for example using ravel().\n",
      "  y = column_or_1d(y, warn=True)\n"
     ]
    },
    {
     "name": "stdout",
     "output_type": "stream",
     "text": [
      "[False False False False False False False False False  True False  True\n",
      " False False False False False False]\n",
      "[ 8  7 16 17 14  2  9 13 15  1  6  1 12  4  5 11  3 10]\n"
     ]
    }
   ],
   "source": [
    "from sklearn.feature_selection import RFE\n",
    "from sklearn.linear_model import LogisticRegression\n",
    "\n",
    "model = LogisticRegression()\n",
    "\n",
    "rfe = RFE(model, 2)\n",
    "rfe = rfe.fit(hr[X], hr[y])\n",
    "print(rfe.support_)\n",
    "print(rfe.ranking_)"
   ]
  },
  {
   "cell_type": "code",
   "execution_count": 445,
   "metadata": {},
   "outputs": [],
   "source": [
    "ranking = rfe.ranking_"
   ]
  },
  {
   "cell_type": "code",
   "execution_count": 446,
   "metadata": {},
   "outputs": [
    {
     "data": {
      "text/plain": [
       "'8,7,16,17,14,2,9,13,15,1,6,1,12,4,5,11,3,10'"
      ]
     },
     "execution_count": 446,
     "metadata": {},
     "output_type": "execute_result"
    }
   ],
   "source": [
    "\",\".join(map(str,ranking))"
   ]
  },
  {
   "cell_type": "code",
   "execution_count": 447,
   "metadata": {},
   "outputs": [
    {
     "data": {
      "text/plain": [
       "[10, 12]"
      ]
     },
     "execution_count": 447,
     "metadata": {},
     "output_type": "execute_result"
    }
   ],
   "source": [
    "[i for i, x in enumerate(ranking,1) if x==1]"
   ]
  },
  {
   "cell_type": "code",
   "execution_count": 448,
   "metadata": {},
   "outputs": [],
   "source": [
    "cols = [ 'Department_management',\n",
    " 'Department_product_mng']\n",
    "\n",
    "X = hr[cols]\n",
    "y = hr['promotion_last_5years']"
   ]
  },
  {
   "cell_type": "markdown",
   "metadata": {},
   "source": [
    "According to RFE, the product management and management department are the most important features for promotion in the last 5 years. This surprised me since I wasn't able to use the categorical variables in some of the EDA including the correlation matrix and the PC analysis. I will use these departments for my X in the following tests.  "
   ]
  },
  {
   "cell_type": "markdown",
   "metadata": {},
   "source": [
    " # Logistic Regression"
   ]
  },
  {
   "cell_type": "code",
   "execution_count": 449,
   "metadata": {},
   "outputs": [
    {
     "data": {
      "text/plain": [
       "LogisticRegression(C=1.0, class_weight='balanced', dual=False,\n",
       "          fit_intercept=True, intercept_scaling=1, max_iter=100,\n",
       "          multi_class='ovr', n_jobs=1, penalty='l2', random_state=None,\n",
       "          solver='liblinear', tol=0.0001, verbose=0, warm_start=False)"
      ]
     },
     "execution_count": 449,
     "metadata": {},
     "output_type": "execute_result"
    }
   ],
   "source": [
    "from sklearn.cross_validation import train_test_split\n",
    "X_train, X_test, y_train, y_test = train_test_split(X, y, test_size=0.4, random_state=0)\n",
    "\n",
    "from sklearn.linear_model import LogisticRegression\n",
    "from sklearn import metrics\n",
    "logreg = LogisticRegression(class_weight='balanced')\n",
    "logreg.fit(X_train, y_train)"
   ]
  },
  {
   "cell_type": "code",
   "execution_count": 450,
   "metadata": {},
   "outputs": [
    {
     "name": "stdout",
     "output_type": "stream",
     "text": [
      "Logistic regression accuracy: 0.944\n"
     ]
    }
   ],
   "source": [
    "from sklearn.metrics import accuracy_score\n",
    "print('Logistic regression accuracy: {:.3f}'.format(accuracy_score(y_test, logreg.predict(X_test))))"
   ]
  },
  {
   "cell_type": "markdown",
   "metadata": {},
   "source": [
    "# Random Forest Classifier"
   ]
  },
  {
   "cell_type": "code",
   "execution_count": 451,
   "metadata": {},
   "outputs": [
    {
     "data": {
      "text/plain": [
       "RandomForestClassifier(bootstrap=True, class_weight='balanced',\n",
       "            criterion='gini', max_depth=None, max_features='auto',\n",
       "            max_leaf_nodes=None, min_impurity_decrease=0.0,\n",
       "            min_impurity_split=None, min_samples_leaf=1,\n",
       "            min_samples_split=2, min_weight_fraction_leaf=0.0,\n",
       "            n_estimators=10, n_jobs=1, oob_score=False, random_state=None,\n",
       "            verbose=0, warm_start=False)"
      ]
     },
     "execution_count": 451,
     "metadata": {},
     "output_type": "execute_result"
    }
   ],
   "source": [
    "from sklearn.ensemble import RandomForestClassifier\n",
    "rf = RandomForestClassifier(class_weight='balanced')\n",
    "rf.fit(X_train, y_train)"
   ]
  },
  {
   "cell_type": "code",
   "execution_count": 452,
   "metadata": {
    "scrolled": true
   },
   "outputs": [
    {
     "name": "stdout",
     "output_type": "stream",
     "text": [
      "Random Forest Accuracy: 0.944\n"
     ]
    }
   ],
   "source": [
    "print('Random Forest Accuracy: {:.3f}'.format(accuracy_score(y_test, rf.predict(X_test))))"
   ]
  },
  {
   "cell_type": "markdown",
   "metadata": {},
   "source": [
    "# Support Vector Machine"
   ]
  },
  {
   "cell_type": "code",
   "execution_count": 453,
   "metadata": {},
   "outputs": [
    {
     "data": {
      "text/plain": [
       "SVC(C=1.0, cache_size=200, class_weight='balanced', coef0=0.0,\n",
       "  decision_function_shape='ovr', degree=3, gamma='auto', kernel='rbf',\n",
       "  max_iter=-1, probability=False, random_state=None, shrinking=True,\n",
       "  tol=0.001, verbose=False)"
      ]
     },
     "execution_count": 453,
     "metadata": {},
     "output_type": "execute_result"
    }
   ],
   "source": [
    "from sklearn.svm import SVC\n",
    "svc = SVC(class_weight='balanced')\n",
    "svc.fit(X_train, y_train)"
   ]
  },
  {
   "cell_type": "code",
   "execution_count": 454,
   "metadata": {},
   "outputs": [
    {
     "name": "stdout",
     "output_type": "stream",
     "text": [
      "Support vector machine accuracy: 0.944\n"
     ]
    }
   ],
   "source": [
    "print('Support vector machine accuracy: {:.3f}'.format(accuracy_score(y_test, svc.predict(X_test))))"
   ]
  },
  {
   "cell_type": "markdown",
   "metadata": {},
   "source": [
    "# Model Analysis\n",
    "\n",
    "I chose logistic regression, random forest and support vector machine because they lend themselves well to modeling a binary feature and there are good examples of these methods from our class materials and online. \n",
    "\n",
    "I used 40% of my data for the test set because I felt that a larger test set was appropriate given there are very few employees who received a promotion. It appears that logistic regression, random forest and support vector machine have the same, very good accuracy, however, this could be deceiving so I will continue with cross-validation, precision and recall and a ROC curve. I also changed the class weight in sklearn because the number of employees promoted is dwarfed by those who weren't. Changing the weight to \"balanced\" replicates the occurrences of promotion until they are comparable to no promotion (Mueller, 2018)."
   ]
  },
  {
   "cell_type": "markdown",
   "metadata": {},
   "source": [
    "# Cross-Validation"
   ]
  },
  {
   "cell_type": "code",
   "execution_count": 455,
   "metadata": {},
   "outputs": [
    {
     "name": "stdout",
     "output_type": "stream",
     "text": [
      "10-fold cross-validation average accuracy: 0.947\n"
     ]
    }
   ],
   "source": [
    "from sklearn import model_selection\n",
    "from sklearn.model_selection import cross_val_score\n",
    "kfold = model_selection.KFold(n_splits=10, random_state=7)\n",
    "modelCV = LogisticRegression(class_weight='balanced')\n",
    "scoring = 'accuracy'\n",
    "results = model_selection.cross_val_score(modelCV, X_train, y_train, cv=kfold, scoring=scoring)\n",
    "print(\"10-fold cross-validation average accuracy: %.3f\" % (results.mean()))"
   ]
  },
  {
   "cell_type": "code",
   "execution_count": 456,
   "metadata": {},
   "outputs": [
    {
     "name": "stdout",
     "output_type": "stream",
     "text": [
      "10-fold cross-validation average accuracy: 0.947\n"
     ]
    }
   ],
   "source": [
    "from sklearn import model_selection\n",
    "from sklearn.model_selection import cross_val_score\n",
    "kfold = model_selection.KFold(n_splits=10, random_state=7)\n",
    "modelCV = RandomForestClassifier(class_weight='balanced')\n",
    "scoring = 'accuracy'\n",
    "results = model_selection.cross_val_score(modelCV, X_train, y_train, cv=kfold, scoring=scoring)\n",
    "print(\"10-fold cross-validation average accuracy: %.3f\" % (results.mean()))"
   ]
  },
  {
   "cell_type": "code",
   "execution_count": 457,
   "metadata": {},
   "outputs": [
    {
     "name": "stdout",
     "output_type": "stream",
     "text": [
      "10-fold cross-validation average accuracy: 0.947\n"
     ]
    }
   ],
   "source": [
    "from sklearn import model_selection\n",
    "from sklearn.model_selection import cross_val_score\n",
    "kfold = model_selection.KFold(n_splits=10, random_state=7)\n",
    "modelCV = SVC(class_weight='balanced')\n",
    "scoring = 'accuracy'\n",
    "results = model_selection.cross_val_score(modelCV, X_train, y_train, cv=kfold, scoring=scoring)\n",
    "print(\"10-fold cross-validation average accuracy: %.3f\" % (results.mean()))"
   ]
  },
  {
   "cell_type": "markdown",
   "metadata": {},
   "source": [
    "Cross-validation tries to prevent over-fitting by testing many portions or folds of the dataset. I chose cross-validation because to test whether or not the data is overfitting in the three models because their accuracy is very high. The accuracy actually increased with cross-validation which shows the the models are not necessarily overfitting but more investigation is required. "
   ]
  },
  {
   "cell_type": "markdown",
   "metadata": {},
   "source": [
    "# Precision and Recall "
   ]
  },
  {
   "cell_type": "markdown",
   "metadata": {},
   "source": [
    "Cross-validation was not enough in determining if logistic regression, random forest and SVM are truly able to predict if employees will be promoted given my dependent variables, therefore, I am using precision and recall and graphing them in a confusion matrix to see how many true positives there are. It's important to know if the accuracy is reflecting the correct prediction of employee promotion--an uncommon event in the dataset."
   ]
  },
  {
   "cell_type": "code",
   "execution_count": 458,
   "metadata": {
    "scrolled": true
   },
   "outputs": [
    {
     "name": "stdout",
     "output_type": "stream",
     "text": [
      "             precision    recall  f1-score   support\n",
      "\n",
      "          0       0.98      0.96      0.97      5863\n",
      "          1       0.11      0.20      0.14       137\n",
      "\n",
      "avg / total       0.96      0.94      0.95      6000\n",
      "\n"
     ]
    }
   ],
   "source": [
    "from sklearn.metrics import classification_report\n",
    "print(classification_report(y_test, rf.predict(X_test)))"
   ]
  },
  {
   "cell_type": "code",
   "execution_count": 459,
   "metadata": {},
   "outputs": [
    {
     "data": {
      "image/png": "[encoded data removed]",
      "text/plain": [
       "<Figure size 432x288 with 2 Axes>"
      ]
     },
     "metadata": {},
     "output_type": "display_data"
    }
   ],
   "source": [
    "y_pred = rf.predict(X_test)\n",
    "from sklearn.metrics import confusion_matrix\n",
    "import seaborn as sns\n",
    "forest_cm = metrics.confusion_matrix(y_pred, y_test, [1,0])\n",
    "sns.heatmap(forest_cm, annot=True, fmt='.2f',xticklabels = [\"Promotion\", \"No Promotion\"] , yticklabels = [\"Promotion\", \"No Promotion\"] )\n",
    "plt.ylabel('True class')\n",
    "plt.xlabel('Predicted class')\n",
    "plt.title('Random Forest')\n",
    "plt.savefig('random_forest')"
   ]
  },
  {
   "cell_type": "code",
   "execution_count": 460,
   "metadata": {},
   "outputs": [
    {
     "name": "stdout",
     "output_type": "stream",
     "text": [
      "             precision    recall  f1-score   support\n",
      "\n",
      "          0       0.98      0.96      0.97      5863\n",
      "          1       0.11      0.20      0.14       137\n",
      "\n",
      "avg / total       0.96      0.94      0.95      6000\n",
      "\n"
     ]
    }
   ],
   "source": [
    "print(classification_report(y_test, logreg.predict(X_test)))"
   ]
  },
  {
   "cell_type": "code",
   "execution_count": 461,
   "metadata": {},
   "outputs": [
    {
     "data": {
      "image/png": "[encoded data removed]",
      "text/plain": [
       "<Figure size 432x288 with 2 Axes>"
      ]
     },
     "metadata": {},
     "output_type": "display_data"
    }
   ],
   "source": [
    "logreg_y_pred = logreg.predict(X_test)\n",
    "logreg_cm = metrics.confusion_matrix(logreg_y_pred, y_test, [1,0])\n",
    "sns.heatmap(logreg_cm, annot=True, fmt='.2f',xticklabels = [\"Promotion\", \"No Promotion\"] , yticklabels = [\"Promotion\", \"No Promotion\"] )\n",
    "plt.ylabel('True class')\n",
    "plt.xlabel('Predicted class')\n",
    "plt.title('Logistic Regression')\n",
    "plt.savefig('logistic_regression')"
   ]
  },
  {
   "cell_type": "code",
   "execution_count": 462,
   "metadata": {},
   "outputs": [
    {
     "name": "stdout",
     "output_type": "stream",
     "text": [
      "             precision    recall  f1-score   support\n",
      "\n",
      "          0       0.98      0.96      0.97      5863\n",
      "          1       0.11      0.20      0.14       137\n",
      "\n",
      "avg / total       0.96      0.94      0.95      6000\n",
      "\n"
     ]
    }
   ],
   "source": [
    "print(classification_report(y_test, svc.predict(X_test)))"
   ]
  },
  {
   "cell_type": "code",
   "execution_count": 463,
   "metadata": {},
   "outputs": [
    {
     "data": {
      "image/png": "[encoded data removed]",
      "text/plain": [
       "<Figure size 432x288 with 2 Axes>"
      ]
     },
     "metadata": {},
     "output_type": "display_data"
    }
   ],
   "source": [
    "svc_y_pred = svc.predict(X_test)\n",
    "svc_cm = metrics.confusion_matrix(svc_y_pred, y_test, [1,0])\n",
    "sns.heatmap(svc_cm, annot=True, fmt='.2f',xticklabels = [\"Promotion\", \"No Promotion\"] , yticklabels = [\"Promotion\", \"No Promotion\"] )\n",
    "plt.ylabel('True class')\n",
    "plt.xlabel('Predicted class')\n",
    "plt.title('Support Vector Machine')\n",
    "plt.savefig('support_vector_machine')"
   ]
  },
  {
   "cell_type": "code",
   "execution_count": 464,
   "metadata": {},
   "outputs": [
    {
     "data": {
      "image/png": "[encoded data removed]",
      "text/plain": [
       "<Figure size 432x288 with 1 Axes>"
      ]
     },
     "metadata": {},
     "output_type": "display_data"
    }
   ],
   "source": [
    "from sklearn.metrics import roc_auc_score\n",
    "from sklearn.metrics import roc_curve\n",
    "\n",
    "logit_roc_auc = roc_auc_score(y_test, logreg.predict(X_test))\n",
    "fpr, tpr, thresholds = roc_curve(y_test, logreg.predict_proba(X_test)[:,1])\n",
    "\n",
    "rf_roc_auc = roc_auc_score(y_test, rf.predict(X_test))\n",
    "rf_fpr, rf_tpr, rf_thresholds = roc_curve(y_test, rf.predict_proba(X_test)[:,1])\n",
    "\n",
    "plt.figure()\n",
    "plt.plot(fpr, tpr, label='Logistic Regression (area = %0.2f)' % logit_roc_auc)\n",
    "plt.plot(rf_fpr, rf_tpr, label='Random Forest (area = %0.2f)' % rf_roc_auc)\n",
    "plt.plot([0, 1], [0, 1],'r--')\n",
    "plt.xlim([0.0, 1.0])\n",
    "plt.ylim([0.0, 1.05])\n",
    "plt.xlabel('False Positive Rate')\n",
    "plt.ylabel('True Positive Rate')\n",
    "plt.title('Receiver operating characteristic')\n",
    "plt.legend(loc=\"lower right\")\n",
    "plt.savefig('ROC')\n",
    "plt.show()"
   ]
  },
  {
   "cell_type": "markdown",
   "metadata": {},
   "source": [
    "The precision and recall of the dataset showed that all three testing methods almost completely miss employees who received a promotion. The ROC curves for logistic regression and random forest show that they have little predictive power. In fact, the ROC area is .58 for both of tests which is only slightly better than chance.  "
   ]
  },
  {
   "cell_type": "markdown",
   "metadata": {},
   "source": [
    "#  Model Evaluation"
   ]
  },
  {
   "cell_type": "markdown",
   "metadata": {},
   "source": [
    "I want to understand the underlying data for the two departments chosen as my predictor features. I use a function to find the misclassified samples below and see that no employees in the Product Managment Department were promoted. I also looked in the dataset and saw that no one from the Product Managment Department was promoted, so it's doubtful that the Product Managment Department is helpful in predicting promotion. 229 employees in the management department who received a promotion were misclassified. "
   ]
  },
  {
   "cell_type": "code",
   "execution_count": 465,
   "metadata": {},
   "outputs": [
    {
     "data": {
      "text/html": [
       "<div>\n",
       "<style scoped>\n",
       "    .dataframe tbody tr th:only-of-type {\n",
       "        vertical-align: middle;\n",
       "    }\n",
       "\n",
       "    .dataframe tbody tr th {\n",
       "        vertical-align: top;\n",
       "    }\n",
       "\n",
       "    .dataframe thead th {\n",
       "        text-align: right;\n",
       "    }\n",
       "</style>\n",
       "<table border=\"1\" class=\"dataframe\">\n",
       "  <thead>\n",
       "    <tr style=\"text-align: right;\">\n",
       "      <th></th>\n",
       "      <th>Department_management</th>\n",
       "      <th>Department_product_mng</th>\n",
       "    </tr>\n",
       "  </thead>\n",
       "  <tbody>\n",
       "    <tr>\n",
       "      <th>10233</th>\n",
       "      <td>1</td>\n",
       "      <td>0</td>\n",
       "    </tr>\n",
       "    <tr>\n",
       "      <th>8610</th>\n",
       "      <td>1</td>\n",
       "      <td>0</td>\n",
       "    </tr>\n",
       "    <tr>\n",
       "      <th>11577</th>\n",
       "      <td>1</td>\n",
       "      <td>0</td>\n",
       "    </tr>\n",
       "    <tr>\n",
       "      <th>9163</th>\n",
       "      <td>1</td>\n",
       "      <td>0</td>\n",
       "    </tr>\n",
       "    <tr>\n",
       "      <th>5036</th>\n",
       "      <td>0</td>\n",
       "      <td>0</td>\n",
       "    </tr>\n",
       "    <tr>\n",
       "      <th>6952</th>\n",
       "      <td>1</td>\n",
       "      <td>0</td>\n",
       "    </tr>\n",
       "    <tr>\n",
       "      <th>14826</th>\n",
       "      <td>1</td>\n",
       "      <td>0</td>\n",
       "    </tr>\n",
       "    <tr>\n",
       "      <th>13611</th>\n",
       "      <td>0</td>\n",
       "      <td>0</td>\n",
       "    </tr>\n",
       "    <tr>\n",
       "      <th>13427</th>\n",
       "      <td>0</td>\n",
       "      <td>0</td>\n",
       "    </tr>\n",
       "    <tr>\n",
       "      <th>11350</th>\n",
       "      <td>1</td>\n",
       "      <td>0</td>\n",
       "    </tr>\n",
       "    <tr>\n",
       "      <th>11258</th>\n",
       "      <td>1</td>\n",
       "      <td>0</td>\n",
       "    </tr>\n",
       "    <tr>\n",
       "      <th>13817</th>\n",
       "      <td>1</td>\n",
       "      <td>0</td>\n",
       "    </tr>\n",
       "    <tr>\n",
       "      <th>9924</th>\n",
       "      <td>1</td>\n",
       "      <td>0</td>\n",
       "    </tr>\n",
       "    <tr>\n",
       "      <th>11878</th>\n",
       "      <td>1</td>\n",
       "      <td>0</td>\n",
       "    </tr>\n",
       "    <tr>\n",
       "      <th>4502</th>\n",
       "      <td>0</td>\n",
       "      <td>0</td>\n",
       "    </tr>\n",
       "    <tr>\n",
       "      <th>4727</th>\n",
       "      <td>0</td>\n",
       "      <td>0</td>\n",
       "    </tr>\n",
       "    <tr>\n",
       "      <th>6415</th>\n",
       "      <td>1</td>\n",
       "      <td>0</td>\n",
       "    </tr>\n",
       "    <tr>\n",
       "      <th>843</th>\n",
       "      <td>1</td>\n",
       "      <td>0</td>\n",
       "    </tr>\n",
       "    <tr>\n",
       "      <th>5862</th>\n",
       "      <td>1</td>\n",
       "      <td>0</td>\n",
       "    </tr>\n",
       "    <tr>\n",
       "      <th>13920</th>\n",
       "      <td>1</td>\n",
       "      <td>0</td>\n",
       "    </tr>\n",
       "    <tr>\n",
       "      <th>10780</th>\n",
       "      <td>0</td>\n",
       "      <td>0</td>\n",
       "    </tr>\n",
       "    <tr>\n",
       "      <th>18</th>\n",
       "      <td>0</td>\n",
       "      <td>0</td>\n",
       "    </tr>\n",
       "    <tr>\n",
       "      <th>1379</th>\n",
       "      <td>1</td>\n",
       "      <td>0</td>\n",
       "    </tr>\n",
       "    <tr>\n",
       "      <th>8914</th>\n",
       "      <td>1</td>\n",
       "      <td>0</td>\n",
       "    </tr>\n",
       "    <tr>\n",
       "      <th>2272</th>\n",
       "      <td>1</td>\n",
       "      <td>0</td>\n",
       "    </tr>\n",
       "    <tr>\n",
       "      <th>4730</th>\n",
       "      <td>0</td>\n",
       "      <td>0</td>\n",
       "    </tr>\n",
       "    <tr>\n",
       "      <th>4554</th>\n",
       "      <td>0</td>\n",
       "      <td>0</td>\n",
       "    </tr>\n",
       "    <tr>\n",
       "      <th>8457</th>\n",
       "      <td>1</td>\n",
       "      <td>0</td>\n",
       "    </tr>\n",
       "    <tr>\n",
       "      <th>5193</th>\n",
       "      <td>1</td>\n",
       "      <td>0</td>\n",
       "    </tr>\n",
       "    <tr>\n",
       "      <th>6853</th>\n",
       "      <td>1</td>\n",
       "      <td>0</td>\n",
       "    </tr>\n",
       "    <tr>\n",
       "      <th>...</th>\n",
       "      <td>...</td>\n",
       "      <td>...</td>\n",
       "    </tr>\n",
       "    <tr>\n",
       "      <th>4732</th>\n",
       "      <td>0</td>\n",
       "      <td>0</td>\n",
       "    </tr>\n",
       "    <tr>\n",
       "      <th>14949</th>\n",
       "      <td>1</td>\n",
       "      <td>0</td>\n",
       "    </tr>\n",
       "    <tr>\n",
       "      <th>1203</th>\n",
       "      <td>1</td>\n",
       "      <td>0</td>\n",
       "    </tr>\n",
       "    <tr>\n",
       "      <th>9847</th>\n",
       "      <td>1</td>\n",
       "      <td>0</td>\n",
       "    </tr>\n",
       "    <tr>\n",
       "      <th>10843</th>\n",
       "      <td>1</td>\n",
       "      <td>0</td>\n",
       "    </tr>\n",
       "    <tr>\n",
       "      <th>10385</th>\n",
       "      <td>1</td>\n",
       "      <td>0</td>\n",
       "    </tr>\n",
       "    <tr>\n",
       "      <th>13971</th>\n",
       "      <td>0</td>\n",
       "      <td>0</td>\n",
       "    </tr>\n",
       "    <tr>\n",
       "      <th>11634</th>\n",
       "      <td>1</td>\n",
       "      <td>0</td>\n",
       "    </tr>\n",
       "    <tr>\n",
       "      <th>14024</th>\n",
       "      <td>1</td>\n",
       "      <td>0</td>\n",
       "    </tr>\n",
       "    <tr>\n",
       "      <th>6166</th>\n",
       "      <td>1</td>\n",
       "      <td>0</td>\n",
       "    </tr>\n",
       "    <tr>\n",
       "      <th>11395</th>\n",
       "      <td>1</td>\n",
       "      <td>0</td>\n",
       "    </tr>\n",
       "    <tr>\n",
       "      <th>4731</th>\n",
       "      <td>0</td>\n",
       "      <td>0</td>\n",
       "    </tr>\n",
       "    <tr>\n",
       "      <th>4585</th>\n",
       "      <td>1</td>\n",
       "      <td>0</td>\n",
       "    </tr>\n",
       "    <tr>\n",
       "      <th>11462</th>\n",
       "      <td>0</td>\n",
       "      <td>0</td>\n",
       "    </tr>\n",
       "    <tr>\n",
       "      <th>13315</th>\n",
       "      <td>1</td>\n",
       "      <td>0</td>\n",
       "    </tr>\n",
       "    <tr>\n",
       "      <th>5523</th>\n",
       "      <td>0</td>\n",
       "      <td>0</td>\n",
       "    </tr>\n",
       "    <tr>\n",
       "      <th>13924</th>\n",
       "      <td>1</td>\n",
       "      <td>0</td>\n",
       "    </tr>\n",
       "    <tr>\n",
       "      <th>11426</th>\n",
       "      <td>1</td>\n",
       "      <td>0</td>\n",
       "    </tr>\n",
       "    <tr>\n",
       "      <th>3646</th>\n",
       "      <td>1</td>\n",
       "      <td>0</td>\n",
       "    </tr>\n",
       "    <tr>\n",
       "      <th>13818</th>\n",
       "      <td>1</td>\n",
       "      <td>0</td>\n",
       "    </tr>\n",
       "    <tr>\n",
       "      <th>11711</th>\n",
       "      <td>1</td>\n",
       "      <td>0</td>\n",
       "    </tr>\n",
       "    <tr>\n",
       "      <th>9066</th>\n",
       "      <td>1</td>\n",
       "      <td>0</td>\n",
       "    </tr>\n",
       "    <tr>\n",
       "      <th>5526</th>\n",
       "      <td>0</td>\n",
       "      <td>0</td>\n",
       "    </tr>\n",
       "    <tr>\n",
       "      <th>11844</th>\n",
       "      <td>1</td>\n",
       "      <td>0</td>\n",
       "    </tr>\n",
       "    <tr>\n",
       "      <th>5519</th>\n",
       "      <td>0</td>\n",
       "      <td>0</td>\n",
       "    </tr>\n",
       "    <tr>\n",
       "      <th>11604</th>\n",
       "      <td>1</td>\n",
       "      <td>0</td>\n",
       "    </tr>\n",
       "    <tr>\n",
       "      <th>11407</th>\n",
       "      <td>0</td>\n",
       "      <td>0</td>\n",
       "    </tr>\n",
       "    <tr>\n",
       "      <th>13785</th>\n",
       "      <td>1</td>\n",
       "      <td>0</td>\n",
       "    </tr>\n",
       "    <tr>\n",
       "      <th>8783</th>\n",
       "      <td>1</td>\n",
       "      <td>0</td>\n",
       "    </tr>\n",
       "    <tr>\n",
       "      <th>11186</th>\n",
       "      <td>0</td>\n",
       "      <td>0</td>\n",
       "    </tr>\n",
       "  </tbody>\n",
       "</table>\n",
       "<p>338 rows × 2 columns</p>\n",
       "</div>"
      ],
      "text/plain": [
       "       Department_management  Department_product_mng\n",
       "10233                      1                       0\n",
       "8610                       1                       0\n",
       "11577                      1                       0\n",
       "9163                       1                       0\n",
       "5036                       0                       0\n",
       "6952                       1                       0\n",
       "14826                      1                       0\n",
       "13611                      0                       0\n",
       "13427                      0                       0\n",
       "11350                      1                       0\n",
       "11258                      1                       0\n",
       "13817                      1                       0\n",
       "9924                       1                       0\n",
       "11878                      1                       0\n",
       "4502                       0                       0\n",
       "4727                       0                       0\n",
       "6415                       1                       0\n",
       "843                        1                       0\n",
       "5862                       1                       0\n",
       "13920                      1                       0\n",
       "10780                      0                       0\n",
       "18                         0                       0\n",
       "1379                       1                       0\n",
       "8914                       1                       0\n",
       "2272                       1                       0\n",
       "4730                       0                       0\n",
       "4554                       0                       0\n",
       "8457                       1                       0\n",
       "5193                       1                       0\n",
       "6853                       1                       0\n",
       "...                      ...                     ...\n",
       "4732                       0                       0\n",
       "14949                      1                       0\n",
       "1203                       1                       0\n",
       "9847                       1                       0\n",
       "10843                      1                       0\n",
       "10385                      1                       0\n",
       "13971                      0                       0\n",
       "11634                      1                       0\n",
       "14024                      1                       0\n",
       "6166                       1                       0\n",
       "11395                      1                       0\n",
       "4731                       0                       0\n",
       "4585                       1                       0\n",
       "11462                      0                       0\n",
       "13315                      1                       0\n",
       "5523                       0                       0\n",
       "13924                      1                       0\n",
       "11426                      1                       0\n",
       "3646                       1                       0\n",
       "13818                      1                       0\n",
       "11711                      1                       0\n",
       "9066                       1                       0\n",
       "5526                       0                       0\n",
       "11844                      1                       0\n",
       "5519                       0                       0\n",
       "11604                      1                       0\n",
       "11407                      0                       0\n",
       "13785                      1                       0\n",
       "8783                       1                       0\n",
       "11186                      0                       0\n",
       "\n",
       "[338 rows x 2 columns]"
      ]
     },
     "execution_count": 465,
     "metadata": {},
     "output_type": "execute_result"
    }
   ],
   "source": [
    "misclassified_samples = X_test[y_test != y_pred]\n",
    "misclassified_samples"
   ]
  },
  {
   "cell_type": "code",
   "execution_count": 466,
   "metadata": {
    "scrolled": true
   },
   "outputs": [
    {
     "data": {
      "text/plain": [
       "1    229\n",
       "0    109\n",
       "Name: Department_management, dtype: int64"
      ]
     },
     "execution_count": 466,
     "metadata": {},
     "output_type": "execute_result"
    }
   ],
   "source": [
    "misclassified_samples['Department_management'].value_counts()"
   ]
  },
  {
   "cell_type": "markdown",
   "metadata": {},
   "source": [
    "# Conclusion and Further Development"
   ]
  },
  {
   "cell_type": "markdown",
   "metadata": {},
   "source": [
    "My models to predict employee promotion in the last five years had great accuracy and abysmal precision. Precision shows the percentage of your data that correctly classifies true positives; my models failed to classify employees who were promoted most of the time so precision was 11%. This project ought to be trashed and a variety of changes could be made:\n",
    "* Although feature selection pointed to two departments that predict promotion best, we should explore other variables especially non-categorical variables and test those. I would like to see how employee satisfaction and the number of projects act as the predictor variables. \n",
    "* I used class weight balancing which improved precision but it could be worth-while to increase the threshold in the models from classifying employees who receive a promotion from the default .5 to a higher threshold. \n",
    "* It's possible that whether or not a promotion is received is dependent on a feature not collected in this dataset which means all models could result in poor precision regardless of the features and tools used in feature selection or tweaking the models. If this is the case, more research needs to be done on factors contributing to promotion and how those data should be collected. \n",
    "\n",
    "A human resources department or employee trying to determine what leads to promotion in this company would find the current data may not support prediction. There are so many factors that contribute to promotion in real life including the personalities of the supervisor and employee, budget constraints, company culture and company structure that capturing the features that conclusively lead to a promotion may be a fool's errand. The current model is not good enough to put money on. \n",
    "\n",
    "Descriptive feature analysis showed differences between features like employee satisfaction and years at the company between employees who receive a promotion and those who did not. Visualization methods like the correlation matrix and density plots also revealed useful characteristics of the features; proof that EDA is incredibly important and useful even when predictive models are not. \n",
    "\n",
    "This project showed that thorough data analysis and data science takes time, practice and may not ultimately lead to a fruitful predictive model. Issues like high bias or variance, low precision or recall, multicollinearity and over and underfitting have to be evaluated and fixed in a data science model. My model suffered from at least one of these issues if not more. \n",
    "\n",
    "I learned that there are so many tools you can use to transform, visualize and select features in python that it's best to stick with methods that are user-friendly and time efficient. I also learned that tools you use depend on your data; for example, when I was researching PCA, I found it was not the best way to reduce dimensionality for categorical values, and given more time, I would have explored methods like Factor Analysis of Mixed Data.\n",
    "\n",
    "With more time, I would like to see what features contribute to employee satisfaction using a regression model and explore prediction of continuous variables in Python. Developing data science skills in Python would benefit HR practices by adding clarity and insight to recruitment, retention, promotion, offer and termination practices. "
   ]
  },
  {
   "cell_type": "code",
   "execution_count": null,
   "metadata": {},
   "outputs": [],
   "source": []
  }
 ],
 "metadata": {
  "kernelspec": {
   "display_name": "Python 3",
   "language": "python",
   "name": "python3"
  },
  "language_info": {
   "codemirror_mode": {
    "name": "ipython",
    "version": 3
   },
   "file_extension": ".py",
   "mimetype": "text/x-python",
   "name": "python",
   "nbconvert_exporter": "python",
   "pygments_lexer": "ipython3",
   "version": "3.6.5"
  }
 },
 "nbformat": 4,
 "nbformat_minor": 2
}
